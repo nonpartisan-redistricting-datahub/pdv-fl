{
 "cells": [
  {
   "cell_type": "code",
   "execution_count": null,
   "metadata": {},
   "outputs": [],
   "source": [
    "import maup # mggg's library for proration, see documentation here: https://github.com/mggg/maup\n",
    "import pandas as pd # standard python data library\n",
    "import geopandas as gp # the geo-version of pandas\n",
    "import numpy as np \n",
    "import os\n",
    "import fiona\n",
    "from statistics import mean, median\n",
    "from pandas import read_csv\n",
    "gp.io.file.fiona.drvsupport.supported_drivers['KML'] = 'rw' #To load KML files"
   ]
  },
  {
   "cell_type": "markdown",
   "metadata": {},
   "source": [
    "# VEST Florida Validation"
   ]
  },
  {
   "cell_type": "markdown",
   "metadata": {},
   "source": [
    "## Documentation"
   ]
  },
  {
   "cell_type": "markdown",
   "metadata": {},
   "source": [
    "### Races"
   ]
  },
  {
   "cell_type": "markdown",
   "metadata": {},
   "source": [
    "G16PRERTru - Donald J. Trump (Republican Party)  \n",
    "G16PREDCli - Hillary Clinton (Democratic Party)  \n",
    "G16PRELJoh - Gary Johnson (Libertarian Party)  \n",
    "G16PRECCas - Darrell L. Castle (Constitution Party)  \n",
    "G16PREGSte - Jill Stein (Green Party)  \n",
    "G16PREIDeL - Roque De La Fuente (Reform Party)  \n",
    "G16PREOth - Write-in Votes  \n",
    "\n",
    "G16USSRRub - Marco Rubio (Republican Party)  \n",
    "G16USSDMur - Patrick Murphy (Democratic Party)  \n",
    "G16USSLSta - Paul Stanton (Libertarian Party)  \n",
    "G16USSOth - Independent and Write-in Votes  "
   ]
  },
  {
   "cell_type": "markdown",
   "metadata": {},
   "source": [
    "### Election Source"
   ]
  },
  {
   "cell_type": "markdown",
   "metadata": {},
   "source": [
    "Election results from Florida Division of Elections (http://dos.myflorida.com/elections/data-statistics/elections-data/precinct-level-election-results/)  "
   ]
  },
  {
   "cell_type": "markdown",
   "metadata": {},
   "source": [
    "### Precinct Source"
   ]
  },
  {
   "cell_type": "markdown",
   "metadata": {},
   "source": [
    "The starting point was the Orlando Sentinel's precinct map for the 2016 presidential primary (http://interactive.orlandosentinel.com/elections/2016/presidential-primary/results/dem.html).  \n",
    "\n",
    "Hillsborough, Lake, Miami-Dade, Orange, Palm Beach, and Pinellas Counties were updated directly with shapefiles downloaded from county Supervisor of Elections websites.  \n",
    "\n",
    "Brevard, Marion, and Putnam Counties were updated with KML files from the respective county Supervisor of Elections websites, from their election result map pages.  \n",
    "\n",
    "Columbia, DeSoto, Leon, Polk, and Osceola Counties updates received from Supervisor of Elections websites through personal contact.  \n",
    "\n",
    "Highlands, Santa Rosa, Sarasota, and Volusia Counties had some precinct mergers, which were determined based on visual inspection of PDF precinct maps from the county websites.  \n",
    "\n",
    "Charlotte, Hendry, Holmes, Jackson, Jefferson, Levy, Madison, and Walton Counties are from VTDs released by the Census Bureau's Redistricting Data Program.  \n",
    "\n",
    "Hernando 99, Collier 450, and Palm Beach 8001/8002 are UOCAVA precincts with no real geography and votes were not redistributed.  \n",
    "\n",
    "Precinct names were adjusted to align with the formatting used in the voter registration file (e.g., some precincts have leading spaces).  "
   ]
  },
  {
   "cell_type": "code",
   "execution_count": null,
   "metadata": {},
   "outputs": [],
   "source": [
    "#This Data is from the FL department of state, and can only be downloaded county by county\n",
    "all_files = os.listdir(\"./raw-from-source/Election_Results/precinctlevelelectionresults2016gen\")"
   ]
  },
  {
   "cell_type": "code",
   "execution_count": null,
   "metadata": {},
   "outputs": [],
   "source": [
    "#Check that all files have the same number of columns\n",
    "for i in all_files:\n",
    "    ref = \"./raw-from-source/Election_Results/precinctlevelelectionresults2016gen/\"\n",
    "    file_ref = ref+i\n",
    "    print(i)\n",
    "    file_prev = pd.read_csv(file_ref,sep=\"\\t\",engine='python',index_col=None, header=None, error_bad_lines=False)\n",
    "    print(file_prev.shape)\n",
    "    \n",
    "#All the files have 19 columns, so they should be good to combine"
   ]
  },
  {
   "cell_type": "code",
   "execution_count": null,
   "metadata": {},
   "outputs": [],
   "source": [
    "tay_values = pd.read_csv(\"/Users/peterhorton/Documents/Redistricting_Data_Hub/Coding/pdv/pdv-fl/vest-fl-2016/raw-from-source/Election_Results/precinctlevelelectionresults2016gen/TAY_PctResults20161108.txt\")"
   ]
  },
  {
   "cell_type": "code",
   "execution_count": null,
   "metadata": {},
   "outputs": [],
   "source": []
  }
 ],
 "metadata": {
  "kernelspec": {
   "display_name": "Python 3",
   "language": "python",
   "name": "python3"
  },
  "language_info": {
   "codemirror_mode": {
    "name": "ipython",
    "version": 3
   },
   "file_extension": ".py",
   "mimetype": "text/x-python",
   "name": "python",
   "nbconvert_exporter": "python",
   "pygments_lexer": "ipython3",
   "version": "3.8.3"
  }
 },
 "nbformat": 4,
 "nbformat_minor": 4
}
