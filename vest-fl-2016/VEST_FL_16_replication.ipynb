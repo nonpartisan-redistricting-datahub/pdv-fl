{
 "cells": [
  {
   "cell_type": "code",
   "execution_count": null,
   "metadata": {},
   "outputs": [],
   "source": [
    "import maup # mggg's library for proration, see documentation here: https://github.com/mggg/maup\n",
    "import pandas as pd # standard python data library\n",
    "import geopandas as gp # the geo-version of pandas\n",
    "import numpy as np \n",
    "import os\n",
    "import fiona\n",
    "from statistics import mean, median\n",
    "from pandas import read_csv\n",
    "gp.io.file.fiona.drvsupport.supported_drivers['KML'] = 'rw' #To load KML files"
   ]
  },
  {
   "cell_type": "markdown",
   "metadata": {},
   "source": [
    "# VEST Florida Validation"
   ]
  },
  {
   "cell_type": "code",
   "execution_count": null,
   "metadata": {},
   "outputs": [],
   "source": [
    "vest_fl_16 = gp.read_file(\"./raw-from-source/VEST/fl_2016/fl_2016.shp\")"
   ]
  },
  {
   "cell_type": "markdown",
   "metadata": {},
   "source": [
    "## Documentation"
   ]
  },
  {
   "cell_type": "markdown",
   "metadata": {},
   "source": [
    "### Races"
   ]
  },
  {
   "cell_type": "markdown",
   "metadata": {},
   "source": [
    "G16PRERTru - Donald J. Trump (Republican Party)  \n",
    "G16PREDCli - Hillary Clinton (Democratic Party)  \n",
    "G16PRELJoh - Gary Johnson (Libertarian Party)  \n",
    "G16PRECCas - Darrell L. Castle (Constitution Party)  \n",
    "G16PREGSte - Jill Stein (Green Party)  \n",
    "G16PREIDeL - Roque De La Fuente (Reform Party)  \n",
    "G16PREOth - Write-in Votes  \n",
    "\n",
    "G16USSRRub - Marco Rubio (Republican Party)  \n",
    "G16USSDMur - Patrick Murphy (Democratic Party)  \n",
    "G16USSLSta - Paul Stanton (Libertarian Party)  \n",
    "G16USSOth - Independent and Write-in Votes  "
   ]
  },
  {
   "cell_type": "markdown",
   "metadata": {},
   "source": [
    "### Election Source"
   ]
  },
  {
   "cell_type": "markdown",
   "metadata": {},
   "source": [
    "Election results from Florida Division of Elections (http://dos.myflorida.com/elections/data-statistics/elections-data/precinct-level-election-results/)  "
   ]
  },
  {
   "cell_type": "markdown",
   "metadata": {},
   "source": [
    "### Precinct Source"
   ]
  },
  {
   "cell_type": "markdown",
   "metadata": {},
   "source": [
    "The starting point was the Orlando Sentinel's precinct map for the 2016 presidential primary (http://interactive.orlandosentinel.com/elections/2016/presidential-primary/results/dem.html).  \n",
    "\n",
    "Hillsborough, Lake, Miami-Dade, Orange, Palm Beach, and Pinellas Counties were updated directly with shapefiles downloaded from county Supervisor of Elections websites.  \n",
    "\n",
    "Brevard, Marion, and Putnam Counties were updated with KML files from the respective county Supervisor of Elections websites, from their election result map pages.  \n",
    "\n",
    "Columbia, DeSoto, Leon, Polk, and Osceola Counties updates received from Supervisor of Elections websites through personal contact.  \n",
    "\n",
    "Highlands, Santa Rosa, Sarasota, and Volusia Counties had some precinct mergers, which were determined based on visual inspection of PDF precinct maps from the county websites.  \n",
    "\n",
    "Charlotte, Hendry, Holmes, Jackson, Jefferson, Levy, Madison, and Walton Counties are from VTDs released by the Census Bureau's Redistricting Data Program.  \n",
    "\n",
    "Hernando 99, Collier 450, and Palm Beach 8001/8002 are UOCAVA precincts with no real geography and votes were not redistributed.  \n",
    "\n",
    "Precinct names were adjusted to align with the formatting used in the voter registration file (e.g., some precincts have leading spaces).  "
   ]
  },
  {
   "cell_type": "code",
   "execution_count": null,
   "metadata": {},
   "outputs": [],
   "source": [
    "#This Data is from the FL department of state, and can only be downloaded county by county\n",
    "all_files = os.listdir(\"./raw-from-source/Election_Results/precinctlevelelectionresults2016gen\")"
   ]
  },
  {
   "cell_type": "code",
   "execution_count": null,
   "metadata": {},
   "outputs": [],
   "source": [
    "#Check that all files have the same number of columns\n",
    "for i in all_files:\n",
    "    ref = \"./raw-from-source/Election_Results/precinctlevelelectionresults2016gen/\"\n",
    "    file_ref = ref+i\n",
    "    print(i)\n",
    "    file_prev = pd.read_csv(file_ref,sep=\"\\t\",engine='python',index_col=None, header=None, error_bad_lines=False)\n",
    "    print(file_prev.shape)\n",
    "    \n",
    "#All the files have 19 columns, so they should be good to combine"
   ]
  },
  {
   "cell_type": "code",
   "execution_count": null,
   "metadata": {},
   "outputs": [],
   "source": [
    "#Create a dataframe with the txt files\n",
    "li = []\n",
    "for i in all_files:\n",
    "    ref = \"./raw-from-source/Election_Results/precinctlevelelectionresults2016gen/\"\n",
    "    file_ref = ref+i\n",
    "    file_prev = pd.read_csv(file_ref,sep=\"\\t\",engine='python',index_col=None, header=None,error_bad_lines=False)\n",
    "    li.append(file_prev)\n",
    "frame = pd.concat(li, axis=0, ignore_index=True)\n",
    "print(frame.shape)"
   ]
  },
  {
   "cell_type": "code",
   "execution_count": null,
   "metadata": {},
   "outputs": [],
   "source": [
    "frame.columns = frame.iloc[395275]\n",
    "frame.drop([395275],inplace=True)\n",
    "frame.reset_index(inplace=True,drop=True)\n",
    "print(frame[\"CountyCode\"].unique())\n",
    "print(frame.shape)"
   ]
  },
  {
   "cell_type": "code",
   "execution_count": null,
   "metadata": {},
   "outputs": [],
   "source": [
    "#Filter down to the relevant races\n",
    "frame[\"ContestName\"]=frame[\"ContestName\"].str.upper()\n",
    "office_List = ['PRESIDENT OF THE UNITED STATES','UNITED STATES SENATOR','President of the United States','United States Senator']\n",
    "bad_name_List = ['OverVotes','UnderVotes','Times Blank Voted','Times Over Voted']\n",
    "filtered_frame=frame[(frame[\"ContestName\"].isin(office_List)) & ~(frame[\"CanName\"].isin(bad_name_List))]\n",
    "cand_name_dict = {\"Trump / Pence\":\"Donald J. Trump\",\"Clinton / Kaine\":\"Hillary R. Clinton\",\n",
    "                 \"Johnson / Weld\":\"Gary Johnson\",\"Stein / Baraka\":\"Jill Stein\",\n",
    "                 \"Write-in\":\"WriteIn\",\"De La Fuente / Steinberg\":\"Roque De La Fuente\",\n",
    "                 \"Castle / Bradley\":\"Darrell L. Castle\",'WriteInVotes':'WriteIn','WriteinVotes':'WriteIn'}\n",
    " \n",
    "filtered_frame[\"CanName\"]=filtered_frame[\"CanName\"].map(cand_name_dict).fillna(filtered_frame[\"CanName\"])\n",
    "print(filtered_frame[\"CountyCode\"].unique())"
   ]
  },
  {
   "cell_type": "code",
   "execution_count": null,
   "metadata": {},
   "outputs": [],
   "source": [
    "#Make the precinct column at least 4 digits\n",
    "filtered_frame[\"modified_pre\"]=filtered_frame[\"Precinct\"].astype(str).str.zfill(5) \n",
    "\n",
    "\n",
    "#Make a column with the 3 letter county code and the precincts\n",
    "filtered_frame[\"Pct_std\"]=filtered_frame[\"CountyCode\"]+filtered_frame[\"modified_pre\"]\n",
    "print(filtered_frame.shape)"
   ]
  },
  {
   "cell_type": "code",
   "execution_count": null,
   "metadata": {},
   "outputs": [],
   "source": [
    "print(filtered_frame[\"Pct_std\"].str[0:3].unique())"
   ]
  },
  {
   "cell_type": "code",
   "execution_count": null,
   "metadata": {},
   "outputs": [],
   "source": [
    "filtered_frame[\"CanName\"]= filtered_frame[\"CanName\"].str.upper()\n",
    "filtered_frame[\"ContestName\"] = filtered_frame[\"ContestName\"].str.upper()\n",
    "filtered_frame[\"pivot_col\"]=filtered_frame[\"CanName\"]+filtered_frame[\"ContestName\"]"
   ]
  },
  {
   "cell_type": "code",
   "execution_count": null,
   "metadata": {},
   "outputs": [],
   "source": [
    "pivoted_2016 = pd.pivot_table(filtered_frame, values=[\"CanVotes\"], index=[\"Pct_std\"],columns=[\"pivot_col\"],aggfunc=sum)\n",
    "pivoted_2016.columns = pivoted_2016.columns.droplevel(0)\n",
    "pivoted_2016.reset_index(drop=False,inplace=True)\n",
    "pivoted_2016.shape\n",
    "print(len(pivoted_2016.columns))\n",
    "print(pivoted_2016.columns)"
   ]
  },
  {
   "cell_type": "code",
   "execution_count": null,
   "metadata": {},
   "outputs": [],
   "source": [
    "pivoted_2016['Pct_std'].str[0:3].unique()"
   ]
  },
  {
   "cell_type": "code",
   "execution_count": null,
   "metadata": {},
   "outputs": [],
   "source": [
    "pivoted_2016.columns=(['countypct',\"sen_wi_1\",\n",
    "                       \"sen_wi_2\",\n",
    "                       \"G16PRECCas\",\n",
    "                       \"G16PRERTru\",\n",
    "                       \"G16PRELJon\",\n",
    "                        \"G16PREDCli\",\n",
    "                       \"G16PREGSte\",\n",
    "                       \"G16USSRRub\",\n",
    "                       \"G16USSDMur\",\n",
    "                       \"G16USSLSta\",\n",
    "                       \"G16PREIDeL\",\n",
    "                       \"sen_wi_3\",\n",
    "                       \"sen_wi_4\",  \n",
    "                       \"G16PREoth\",\n",
    "                       \"sen_wi_5\"])\n",
    "print(pivoted_2016.columns)\n",
    "print(pivoted_2016.shape)\n",
    "pivoted_2016[\"G16USSOth\"]=pivoted_2016[\"sen_wi_1\"]+pivoted_2016[\"sen_wi_2\"]+pivoted_2016[\"sen_wi_3\"]+pivoted_2016[\"sen_wi_4\"]+pivoted_2016[\"sen_wi_5\"]\n",
    "pivoted_2016.drop([\"sen_wi_1\",\"sen_wi_2\",\"sen_wi_3\",\"sen_wi_4\",\"sen_wi_5\"], axis=1,inplace=True)"
   ]
  },
  {
   "cell_type": "code",
   "execution_count": null,
   "metadata": {},
   "outputs": [],
   "source": [
    "pivoted_2016 = pivoted_2016.fillna(0)\n",
    "print(sum(pivoted_2016[\"G16PREDCli\"]))\n",
    "pivoted_2016[\"county\"]=pivoted_2016[\"countypct\"].str[0:3]"
   ]
  },
  {
   "cell_type": "code",
   "execution_count": null,
   "metadata": {},
   "outputs": [],
   "source": [
    "print(sum(vest_fl_16[\"G16PREDCli\"]))"
   ]
  },
  {
   "cell_type": "code",
   "execution_count": null,
   "metadata": {},
   "outputs": [],
   "source": [
    "vest_fl_16.groupby([\"county\"]).sum()"
   ]
  },
  {
   "cell_type": "code",
   "execution_count": null,
   "metadata": {},
   "outputs": [],
   "source": [
    "pd.set_option('display.max_rows', 70)\n",
    "display(pivoted_2016.groupby([\"county\"]).sum()[\"G16PREDCli\"]-vest_fl_16.groupby([\"county\"]).sum()[\"G16PREDCli\"])"
   ]
  },
  {
   "cell_type": "code",
   "execution_count": null,
   "metadata": {},
   "outputs": [],
   "source": [
    "print(vest_fl_16.head())\n",
    "print(pivoted_2016.head())"
   ]
  },
  {
   "cell_type": "code",
   "execution_count": null,
   "metadata": {},
   "outputs": [],
   "source": [
    "print(pivoted_2016.columns)"
   ]
  },
  {
   "cell_type": "code",
   "execution_count": null,
   "metadata": {},
   "outputs": [],
   "source": [
    "vest_fl_16[\"countypct\"] = vest_fl_16[\"county\"]+vest_fl_16[\"pct\"].str.zfill(5)\n",
    "print(vest_fl_16.head())"
   ]
  },
  {
   "cell_type": "code",
   "execution_count": null,
   "metadata": {},
   "outputs": [],
   "source": [
    "source_precinct_election_changes_dict = {\"WAS00014\":\"WAS00017\",\"WAS00016\":\"WAS00019\",\"HAR00017\":\"HAR00009\",\"HAR00015\":\"HAR00007\",\n",
    "    \"PUT00031\":\"PUT00035\",\"HAR00018\":\"HAR00010\"}\n",
    "\n",
    "pivoted_2016[\"countypct\"]=pivoted_2016[\"countypct\"].map(source_precinct_election_changes_dict).fillna(pivoted_2016[\"countypct\"])\n"
   ]
  },
  {
   "cell_type": "code",
   "execution_count": null,
   "metadata": {},
   "outputs": [],
   "source": [
    "#Deal with 0 votes precincts\n",
    "vest_empty = vest_fl_16[(vest_fl_16['G16PRERTru']==0) & (vest_fl_16['G16PREDCli']==0) &\n",
    "              (vest_fl_16['G16PRELJon']==0) & (vest_fl_16['G16PRECCas']==0) &\n",
    "              (vest_fl_16['G16PREGSte']==0) & (vest_fl_16['G16PREIDeL']==0) &\n",
    "              (vest_fl_16['G16PREoth']==0) & (vest_fl_16['G16USSRRub']==0) &\n",
    "              (vest_fl_16['G16USSDMur']==0) & (vest_fl_16['G16USSLSta']==0) &\n",
    "              (vest_fl_16['G16USSOth']==0)]\n",
    "\n",
    "#Create the zero vote precincts in the MEDSL file\n",
    "\n",
    "new_precincts = pd.DataFrame(columns=pivoted_2016.columns)\n",
    "new_precincts[\"countypct\"]=vest_empty[\"countypct\"]\n",
    "new_precincts[\"county\"]=vest_empty[\"countypct\"].str[0:3]\n",
    "\n",
    "col_list = ['G16PRECCas', 'G16PRERTru', 'G16PRELJon', 'G16PREDCli',\n",
    "       'G16PREGSte', 'G16USSRRub', 'G16USSDMur', 'G16USSLSta', 'G16PREIDeL',\n",
    "       'G16PREoth', 'G16USSOth']\n",
    "for i in col_list:\n",
    "    new_precincts[i]=0\n",
    "\n",
    "print(new_precincts.head())\n",
    "\n",
    "pivoted_2016= pivoted_2016.append(new_precincts)\n",
    "pivoted_2016.reset_index(drop=True,inplace=True)\n",
    "print(pivoted_2016.head())"
   ]
  },
  {
   "cell_type": "code",
   "execution_count": null,
   "metadata": {},
   "outputs": [],
   "source": [
    "check_election = pd.merge(vest_fl_16,pivoted_2016,how=\"outer\",on=\"countypct\",indicator=True)\n",
    "\n",
    "print(check_election[\"_merge\"].value_counts())\n",
    "check_election[check_election[\"_merge\"]==\"left_only\"].to_csv(\"./vest_election.csv\")\n",
    "check_election[check_election[\"_merge\"]==\"right_only\"].to_csv(\"./source_election.csv\")"
   ]
  },
  {
   "cell_type": "code",
   "execution_count": null,
   "metadata": {},
   "outputs": [],
   "source": [
    "print(vest_fl_16[vest_fl_16[\"countypct\"]==\"UNI0001A\"])"
   ]
  },
  {
   "cell_type": "code",
   "execution_count": null,
   "metadata": {},
   "outputs": [],
   "source": [
    "merge these precincts:\n",
    "UNI0001A\n",
    "UNI0001B\n",
    "UNI0002A\n",
    "UNI0002B\n",
    "UNI0003A\n",
    "UNI0003B\n",
    "UNI0004A\n",
    "UNI0004C\n",
    "UNI0005A\n",
    "UNI0005C\n",
    "\n",
    "call them this:\n",
    "UNI1A & 1B\n",
    "UNI2A & 2B\n",
    "UNI3A & 3B\n",
    "UNI4A & 4C\n",
    "UNI5A & 5C   \n",
    "\n",
    "\n",
    "election_precinct_merger([\"UNI0001A\",\"UNI0001B\"],\"UNI1A & 1B\")\n",
    "election_precinct_merger([\"UNI0002A\",\"UNI0002B\"],\"UNI2A & 2B\")\n",
    "election_precinct_merger([\"UNI0003A\",\"UNI0003B\"],\"UNI3A & 3B\")\n",
    "election_precinct_merger([\"UNI0004A\",\"UNI0004C\"],\"UNI4A & 4C\")\n",
    "election_precinct_merger([\"UNI0005A\",\"UNI0005C\"],\"UNI5A & 5C\")"
   ]
  },
  {
   "cell_type": "code",
   "execution_count": null,
   "metadata": {},
   "outputs": [],
   "source": [
    "def election_precinct_merger(precinct_list,new_precinct):\n",
    "    global pivoted_2016\n",
    "    prec_holder = []\n",
    "    for i in precinct_list:\n",
    "        print(pivoted_2016[pivoted_2016[\"countypct\"]==i])\n",
    "        print(pivoted_2016.loc[pivoted_2016[\"countypct\"]==i])\n",
    "    #new_geom = pd.concat(prec_holder, ignore_index=True)\n",
    "    print(new_geom.head())\n",
    "\n",
    "election_precinct_merger([\"UNI0001A\",\"UNI0001B\"],\"UNI1A & 1B\")"
   ]
  },
  {
   "cell_type": "code",
   "execution_count": null,
   "metadata": {},
   "outputs": [],
   "source": [
    "print(check_election[check_election[\"_merge\"]==\"both\"])"
   ]
  },
  {
   "cell_type": "code",
   "execution_count": null,
   "metadata": {},
   "outputs": [],
   "source": [
    "print(sum(vest_fl_16[\"G16USSOth\"]))\n",
    "print(sum(pivoted_2016[\"G16USSOth\"]))"
   ]
  },
  {
   "cell_type": "code",
   "execution_count": null,
   "metadata": {},
   "outputs": [],
   "source": [
    "print(pivoted_2016.columns)\n",
    "print(vest_fl_16.columns)"
   ]
  },
  {
   "cell_type": "code",
   "execution_count": null,
   "metadata": {},
   "outputs": [],
   "source": [
    "def validater_row (df, column_List):\n",
    "    matching_rows = 0\n",
    "    different_rows = 0\n",
    "    diff_list=[]\n",
    "    diff_values = []\n",
    "    max_diff = 0\n",
    "    \n",
    "    for j in range(0,len(df.index)):\n",
    "        same = True\n",
    "        for i in column_List:\n",
    "            left_Data = i + \"_x\"\n",
    "            right_Data = i + \"_y\"\n",
    "            diff = abs(df.iloc[j][left_Data]-df.iloc[j][right_Data])\n",
    "            if(diff != 0):\n",
    "                print(df.iloc[j]['countypct'])\n",
    "                print(i)\n",
    "                diff_values.append(abs(diff))\n",
    "                same = False\n",
    "                if(np.isnan(diff)):\n",
    "                    print(\"NaN value at diff is: \", df.iloc[j]['countypct'])\n",
    "                    print(df.iloc[j][left_Data])\n",
    "                    print(df.iloc[j][right_Data])\n",
    "                if (diff>max_diff):\n",
    "                    max_diff = diff\n",
    "                    print(\"New max diff is: \", str(max_diff))\n",
    "                    print(df.iloc[j]['countypct'])\n",
    "        if(same != True):\n",
    "            different_rows +=1\n",
    "            diff_list.append(df.iloc[j]['countypct'])\n",
    "        else:\n",
    "            matching_rows +=1\n",
    "    print(\"There are \", len(df.index),\" total rows\")\n",
    "    print(different_rows,\" of these rows have election result differences\")\n",
    "    print(matching_rows,\" of these rows are the same\")\n",
    "    print(\"\")\n",
    "    print(\"The max difference between any one shared column in a row is: \", max_diff)\n",
    "    if(len(diff_values)!=0):\n",
    "        print(\"The average difference is: \", str(sum(diff_values)/len(diff_values)))\n",
    "    count_big_diff = len([i for i in diff_values if i > 10])\n",
    "    print(\"There are \", str(count_big_diff), \"precinct results with a difference greater than 5\")\n",
    "    diff_list.sort()\n",
    "    print(diff_list)\n",
    "\n",
    "col_list = ['G16PRECCas', 'G16PRERTru', 'G16PRELJon', 'G16PREDCli',\n",
    "       'G16PREGSte', 'G16USSRRub', 'G16USSDMur', 'G16USSLSta', 'G16PREIDeL']\n",
    "\n",
    "#Took out Senate other and president other\n",
    "\n",
    "validater_row(check_election[check_election[\"_merge\"]==\"both\"],col_list)"
   ]
  },
  {
   "cell_type": "code",
   "execution_count": null,
   "metadata": {},
   "outputs": [],
   "source": [
    "diff_list = ['HAR00005', 'HAR00008', 'HAR00011', 'HAR00012', 'PAL01173', 'PAL01189', 'PAL01247', 'PAL02081', 'PAL02083', 'PAL02097', 'PAL02116', 'PAL02126', 'PAL04129', 'PAL05003', 'PAL05007', 'PAL05018', 'PAL05055', 'PAL05112', 'PAL05113', 'PAL05115', 'PAL05117', 'PAL05119', 'PAL06207', 'PAL07149', 'PUT00014', 'PUT00015', 'PUT00016', 'PUT00018', 'PUT00019', 'PUT00020', 'PUT00021', 'PUT00022', 'PUT00023', 'PUT00024', 'PUT00025', 'PUT00026', 'PUT00027', 'PUT00028', 'PUT00030', 'PUT00032', 'PUT00033', 'PUT00036', 'PUT00037', 'SAR00429', 'SAR00501', 'WAL00430', 'WAL00440', 'WAL00540', 'WAS00015']"
   ]
  },
  {
   "cell_type": "code",
   "execution_count": null,
   "metadata": {},
   "outputs": [],
   "source": [
    "print(check_election[check_election[\"_merge\"]==\"left_only\"][\"countypct\"])"
   ]
  },
  {
   "cell_type": "code",
   "execution_count": null,
   "metadata": {},
   "outputs": [],
   "source": [
    "pd.set_option('display.max_columns', 500)\n",
    "display(check_election[check_election[\"countypct\"]=='WAL00420'])"
   ]
  },
  {
   "cell_type": "markdown",
   "metadata": {},
   "source": [
    "### Shapefiles"
   ]
  },
  {
   "cell_type": "markdown",
   "metadata": {},
   "source": [
    "The starting point was the Orlando Sentinel's precinct map for the 2016 presidential primary (http://interactive.orlandosentinel.com/elections/2016/presidential-primary/results/dem.html).  \n",
    "\n",
    "Hillsborough, Lake, Miami-Dade, Orange, Palm Beach, and Pinellas Counties were updated directly with shapefiles downloaded from county Supervisor of Elections websites.  \n",
    "\n",
    "Brevard, Marion, and Putnam Counties were updated with KML files from the respective county Supervisor of Elections websites, from their election result map pages.  \n",
    "\n",
    "Columbia, DeSoto, Leon, Polk, and Osceola Counties updates received from Supervisor of Elections websites through personal contact.  \n",
    "\n",
    "Highlands, Santa Rosa, Sarasota, and Volusia Counties had some precinct mergers, which were determined based on visual inspection of PDF precinct maps from the county websites.  \n",
    "\n",
    "Charlotte, Hendry, Holmes, Jackson, Jefferson, Levy, Madison, and Walton Counties are from VTDs released by the Census Bureau's Redistricting Data Program.  \n",
    "\n",
    "Hernando 99, Collier 450, and Palm Beach 8001/8002 are UOCAVA precincts with no real geography and votes were not redistributed.  \n",
    "\n",
    "Precinct names were adjusted to align with the formatting used in the voter registration file (e.g., some precincts have leading spaces).  "
   ]
  },
  {
   "cell_type": "code",
   "execution_count": null,
   "metadata": {},
   "outputs": [],
   "source": [
    "print(len(pivoted_2016[\"countypct\"].str[0:3].unique()))\n",
    "#for i in pivoted_2016[\"countypct\"].str[0:3].unique():\n",
    "    #print(i+\"_pct=gp.read_file()\")"
   ]
  },
  {
   "cell_type": "code",
   "execution_count": 2,
   "metadata": {},
   "outputs": [
    {
     "ename": "NameError",
     "evalue": "name 'gp' is not defined",
     "output_type": "error",
     "traceback": [
      "\u001b[0;31m---------------------------------------------------------------------------\u001b[0m",
      "\u001b[0;31mNameError\u001b[0m                                 Traceback (most recent call last)",
      "\u001b[0;32m<ipython-input-2-96a42db10ec6>\u001b[0m in \u001b[0;36m<module>\u001b[0;34m\u001b[0m\n\u001b[0;32m----> 1\u001b[0;31m \u001b[0mALA_pct\u001b[0m\u001b[0;34m=\u001b[0m\u001b[0mgp\u001b[0m\u001b[0;34m.\u001b[0m\u001b[0mread_file\u001b[0m\u001b[0;34m(\u001b[0m\u001b[0;34m\"./raw-from-source/Records_Request/Precinct and Polling Place Files - 2012-present - last checked 7-23-2020/ALA/ALA20121106v6_PctMap/ALA20121106v6_PctMap.shp\"\u001b[0m\u001b[0;34m)\u001b[0m\u001b[0;34m\u001b[0m\u001b[0;34m\u001b[0m\u001b[0m\n\u001b[0m\u001b[1;32m      2\u001b[0m \u001b[0mBAK_pct\u001b[0m\u001b[0;34m=\u001b[0m\u001b[0mgp\u001b[0m\u001b[0;34m.\u001b[0m\u001b[0mread_file\u001b[0m\u001b[0;34m(\u001b[0m\u001b[0;34m\"./raw-from-source/Records_Request/Precinct and Polling Place Files - 2012-present - last checked 7-23-2020/BAK/BAK20121106v6_PctMap/BAK20121106v6_PctMap.shp\"\u001b[0m\u001b[0;34m)\u001b[0m\u001b[0;34m\u001b[0m\u001b[0;34m\u001b[0m\u001b[0m\n\u001b[1;32m      3\u001b[0m \u001b[0;31m#might be an alternative for BAY\u001b[0m\u001b[0;34m\u001b[0m\u001b[0;34m\u001b[0m\u001b[0;34m\u001b[0m\u001b[0m\n\u001b[1;32m      4\u001b[0m \u001b[0mBAY_pct\u001b[0m\u001b[0;34m=\u001b[0m\u001b[0mgp\u001b[0m\u001b[0;34m.\u001b[0m\u001b[0mread_file\u001b[0m\u001b[0;34m(\u001b[0m\u001b[0;34m\"./raw-from-source/Records_Request/Precinct and Polling Place Files - 2012-present - last checked 7-23-2020/BAK/BAK20121106v6_PctMap/BAK20121106v6_PctMap.shp\"\u001b[0m\u001b[0;34m)\u001b[0m\u001b[0;34m\u001b[0m\u001b[0;34m\u001b[0m\u001b[0m\n\u001b[1;32m      5\u001b[0m \u001b[0mBRA_pct\u001b[0m\u001b[0;34m=\u001b[0m\u001b[0mgp\u001b[0m\u001b[0;34m.\u001b[0m\u001b[0mread_file\u001b[0m\u001b[0;34m(\u001b[0m\u001b[0;34m\"./raw-from-source/Records_Request/Precinct and Polling Place Files - 2012-present - last checked 7-23-2020/BRA/BRA20121106v6_PctMap/BRA20121106v5_PctMap.shp\"\u001b[0m\u001b[0;34m)\u001b[0m\u001b[0;34m\u001b[0m\u001b[0;34m\u001b[0m\u001b[0m\n",
      "\u001b[0;31mNameError\u001b[0m: name 'gp' is not defined"
     ]
    }
   ],
   "source": [
    "ALA_pct=gp.read_file(\"./raw-from-source/Records_Request/Precinct and Polling Place Files - 2012-present - last checked 7-23-2020/ALA/ALA20121106v6_PctMap/ALA20121106v6_PctMap.shp\")\n",
    "BAK_pct=gp.read_file(\"./raw-from-source/Records_Request/Precinct and Polling Place Files - 2012-present - last checked 7-23-2020/BAK/BAK20121106v6_PctMap/BAK20121106v6_PctMap.shp\")\n",
    "#might be an alternative for BAY\n",
    "BAY_pct=gp.read_file(\"./raw-from-source/Records_Request/Precinct and Polling Place Files - 2012-present - last checked 7-23-2020/BAK/BAK20121106v6_PctMap/BAK20121106v6_PctMap.shp\")\n",
    "BRA_pct=gp.read_file(\"./raw-from-source/Records_Request/Precinct and Polling Place Files - 2012-present - last checked 7-23-2020/BRA/BRA20121106v6_PctMap/BRA20121106v5_PctMap.shp\")\n",
    "BRE_pct=gp.read_file(\"./raw-from-source/Records_Request/Precinct and Polling Place Files - 2012-present - last checked 7-23-2020/BRE/Post RD Precincts/Precincts_2016.shp\")\n",
    "BRO_pct=gp.read_file(\"./raw-from-source/Records_Request/Precinct and Polling Place Files - 2012-present - last checked 7-23-2020/BRO/PRECINCTS/PRECINCTS_region.shp\")\n",
    "CAL_pct=gp.read_file(\"./raw-from-source/Records_Request/Precinct and Polling Place Files - 2012-present - last checked 7-23-2020/CAL/CAL20121106v6_PctMap/CAL20121106v6_PctMap.shp\")\n",
    "CHA_pct=gp.read_file(\"./raw-from-source/Records_Request/Precinct and Polling Place Files - 2012-present - last checked 7-23-2020/CHA/CHA20121106v6_PctMap/CHA20121106v5_PctMap.shp\")\n",
    "CIT_pct=gp.read_file(\"./raw-from-source/Records_Request/Precinct and Polling Place Files - 2012-present - last checked 7-23-2020/CIT/CIT20170531_PctMap/PRECINCT05312017.shp\")\n",
    "CLA_pct=gp.read_file(\"./raw-from-source/Records_Request/Precinct and Polling Place Files - 2012-present - last checked 7-23-2020/CLA/CLA20160503_PctMapcc84b5a6-3ade-4dd9-acd8-4c8157bcd343/CLA20160503_PctMap.shp\")\n",
    "#might be an alternative for CLL\n",
    "CLL_pct=gp.read_file(\"./raw-from-source/Records_Request/Precinct and Polling Place Files - 2012-present - last checked 7-23-2020/CLL/Shape Files/PRECINCT12021.shp\")\n",
    "CLM_pct=gp.read_file(\"./raw-from-source/Records_Request/Precinct and Polling Place Files - 2012-present - last checked 7-23-2020/CLM/CLM20121106v6_PctMap/CLM20121106v6_PctMap.shp\")\n",
    "DAD_pct=gp.read_file(\"./raw-from-source/Records_Request/Precinct and Polling Place Files - 2012-present - last checked 7-23-2020/DAD/DAD20120530PctMap16c09333-6c91-4737-99f9-8bcbf652e6df.shp\")\n",
    "DES_pct=gp.read_file(\"./raw-from-source/Records_Request/Precinct and Polling Place Files - 2012-present - last checked 7-23-2020/DES/DES20121106v6_PctMap/DES20121106v5_PctMap.shp\")\n",
    "DIX_pct=gp.read_file(\"./raw-from-source/Records_Request/Precinct and Polling Place Files - 2012-present - last checked 7-23-2020/DIX/DIX20121106v6_PctMap/DIX20121106v6_PctMap.shp\")\n",
    "DUV_pct=gp.read_file(\"./raw-from-source/Records_Request/Precinct and Polling Place Files - 2012-present - last checked 7-23-2020/DUV/DUV20120615_PctMap_region38f2bdfc-7be4-466e-ab20-98b2ad332567/DUV20120615_PctMap_region.shp\")\n",
    "ESC_pct=gp.read_file(\"./raw-from-source/Records_Request/Precinct and Polling Place Files - 2012-present - last checked 7-23-2020/ESC/Precinct_Map_2018/PRECINCT_MAP_022018.shp\")\n",
    "FLA_pct=gp.read_file(\"./raw-from-source/Records_Request/Precinct and Polling Place Files - 2012-present - last checked 7-23-2020/FLA/FLA20121106v6_PctMap/FLA20121106v6_PctMap.shp\")\n",
    "FRA_pct=gp.read_file(\"./raw-from-source/Records_Request/Precinct and Polling Place Files - 2012-present - last checked 7-23-2020/FRA/FRA20121106v6_PctMap/FRA20121106v6_PctMap.shp\")\n",
    "#Have converter to blocks for 2012 election\n",
    "GAD_pct=gp.read_file(\"\")\n",
    "GIL_pct=gp.read_file(\"\")\n",
    "\n",
    "GLA_pct=gp.read_file(\"\")\n",
    "GUL_pct=gp.read_file(\"\")\n",
    "HAM_pct=gp.read_file(\"\")\n",
    "HAR_pct=gp.read_file(\"\")\n",
    "HEN_pct=gp.read_file(\"\")\n",
    "HER_pct=gp.read_file(\"\")\n",
    "HIG_pct=gp.read_file(\"\")\n",
    "HIL_pct=gp.read_file(\"\")\n",
    "HOL_pct=gp.read_file(\"\")\n",
    "IND_pct=gp.read_file(\"\")\n",
    "JAC_pct=gp.read_file(\"\")\n",
    "JEF_pct=gp.read_file(\"\")\n",
    "LAF_pct=gp.read_file(\"\")\n",
    "LAK_pct=gp.read_file(\"\")\n",
    "LEE_pct=gp.read_file(\"\")\n",
    "LEO_pct=gp.read_file(\"\")\n",
    "LEV_pct=gp.read_file(\"\")\n",
    "LIB_pct=gp.read_file(\"\")\n",
    "MAD_pct=gp.read_file(\"\")\n",
    "MAN_pct=gp.read_file(\"\")\n",
    "MON_pct=gp.read_file(\"\")\n",
    "MRN_pct=gp.read_file(\"\")\n",
    "MRT_pct=gp.read_file(\"\")\n",
    "NAS_pct=gp.read_file(\"\")\n",
    "OKA_pct=gp.read_file(\"./raw-from-source/Records_Request/Precinct and Polling Place Files - 2012-present - last checked 7-23-2020/OKA/OKA20121106_PCTv6da58ba66-dc93-4a57-b652-54e0178dd8c0/OKA20121106v6_PctMap/OKA20121106v5_PctMap.shp\")\n",
    "OKE_pct=gp.read_file(\"./raw-from-source/Records_Request/Precinct and Polling Place Files - 2012-present - last checked 7-23-2020/OKE/OKE20120628_PctMap515d73e7-c7f9-43ac-83df-e27de5e49af7/2012 Precincts.shp\")\n",
    "ORA_pct=gp.read_file(\"./raw-from-source/Records_Request/Precinct and Polling Place Files - 2012-present - last checked 7-23-2020/ORA/ORA20160506_PctMapc9f3a643-0427-4f76-83e6-015be0bd518c/ORA20160506_PctMap_region.shp\")\n",
    "OSC_pct=gp.read_file(\"./raw-from-source/Records_Request/Precinct and Polling Place Files - 2012-present - last checked 7-23-2020/OSC/OSC20160614_PctMapee50a15b-49e5-40e9-b975-fc25e040399a/2016_06 Osceola Precincts.shp\")\n",
    "PAL_pct=gp.read_file(\"./raw-from-source/Records_Request/Precinct and Polling Place Files - 2012-present - last checked 7-23-2020/PAL/PAL20120601_PCTMAP4f088c9b-ffe1-4080-990d-1f256823fd06.shp\")\n",
    "PAS_pct=gp.read_file(\"./raw-from-source/Records_Request/Precinct and Polling Place Files - 2012-present - last checked 7-23-2020/PAS/ESRI Shapefiles/Pasco.shp\")\n",
    "PIN_pct=gp.read_file(\"./raw-from-source/Records_Request/Precinct and Polling Place Files - 2012-present - last checked 7-23-2020/PIN/PIN20160503PCTSHAPEca2b1084-a008-41ad-b312-b26359773cf1.shp\")\n",
    "POL_pct=gp.read_file(\"./raw-from-source/Records_Request/Precinct and Polling Place Files - 2012-present - last checked 7-23-2020/POL/POL20160511_PctMapbb417d62-028d-4b78-adbf-344f474213b2/2016 Polk Precincts.shp\")\n",
    "PUT_pct=gp.read_file(\"./raw-from-source/Records_Request/Precinct and Polling Place Files - 2012-present - last checked 7-23-2020/PUT/PUT20160614PctMap98164384-dc27-48c1-8ae9-dfa69c6afdc0/PUT20160614PctMap.shp\")\n",
    "SAN_pct=gp.read_file(\"./raw-from-source/Records_Request/Precinct and Polling Place Files - 2012-present - last checked 7-23-2020/SAN/SAN20121106v6_PctMap/SAN20121106v6_PctMap.shp\")\n",
    "SAR_pct=gp.read_file(\"./raw-from-source/Records_Request/Precinct and Polling Place Files - 2012-present - last checked 7-23-2020/SAR/SAR20140109v6_PctMapf831e47b-44f3-4954-a8e8-052b3a084322/SarasotaCounty_Pcts_051613_region.shp\")\n",
    "SEM_pct=gp.read_file(\"./raw-from-source/Records_Request/Precinct and Polling Place Files - 2012-present - last checked 7-23-2020/SEM/SEM20121106v6_PctMap/SEM20121106v6_PctMap.shp\")\n",
    "STJ_pct=gp.read_file(\"./raw-from-source/Records_Request/Precinct and Polling Place Files - 2012-present - last checked 7-23-2020/STJ/STJ20121106v6_PctMap7902e8be-3a36-4698-9e89-0b6a34bc20c1/STJ20121106v6_PctMap.shp\")\n",
    "STL_pct=gp.read_file(\"./raw-from-source/Records_Request/Precinct and Polling Place Files - 2012-present - last checked 7-23-2020/STL/STL20121106v6_PctMap/STL20121106v6_PctMap.shp\")\n",
    "#Multiple files\n",
    "SUM_pct=gp.read_file(\"./raw-from-source/Records_Request/Precinct and Polling Place Files - 2012-present - last checked 7-23-2020/SUM/SUM20150414_PctMapd8c09f1b-eeac-4053-93bc-8dcce1fee403.shp\")\n",
    "SUW_pct=gp.read_file(\"./raw-from-source/Records_Request/Precinct and Polling Place Files - 2012-present - last checked 7-23-2020/SUW/SUW20121106v6_PctMap/SUW20121106v6_PctMap.shp\")\n",
    "#Blocks to precincts assignment files\n",
    "TAY_pct=gp.read_file(\"\")\n",
    "UNI_pct=gp.read_file(\"./raw-from-source/Records_Request/Precinct and Polling Place Files - 2012-present - last checked 7-23-2020/UNI/UNI20121106v6_PctMap/UNI20121106v6_PctMap.shp\")\n",
    "#Multiple files\n",
    "VOL_pct=gp.read_file(\"./raw-from-source/Records_Request/Precinct and Polling Place Files - 2012-present - last checked 7-23-2020/VOL/VOL20160721_PctMap05578db2-b193-44b2-988d-0ba4f6c63ead/VOL20160721_PctMap.shp\")\n",
    "WAK_pct=gp.read_file(\"./raw-from-source/Records_Request/Precinct and Polling Place Files - 2012-present - last checked 7-23-2020/WAK/WAK20121106v6_PctMap/WAK20121106v6_PctMap.shp\")\n",
    "WAL_pct=gp.read_file(\"./raw-from-source/Records_Request/Precinct and Polling Place Files - 2012-present - last checked 7-23-2020/WAL/WAL20121106v6_PctMap/WAL20121106v6_PctMap.shp\")\n",
    "WAS_pct=gp.read_file(\"./raw-from-source/Records_Request/Precinct and Polling Place Files - 2012-present - last checked 7-23-2020/WAS/WAS20121106v6_PctMap/WAS20121106v6_PctMap.shp\")"
   ]
  },
  {
   "cell_type": "code",
   "execution_count": null,
   "metadata": {},
   "outputs": [],
   "source": []
  }
 ],
 "metadata": {
  "kernelspec": {
   "display_name": "Python 3",
   "language": "python",
   "name": "python3"
  }
 },
 "nbformat": 4,
 "nbformat_minor": 4
}
