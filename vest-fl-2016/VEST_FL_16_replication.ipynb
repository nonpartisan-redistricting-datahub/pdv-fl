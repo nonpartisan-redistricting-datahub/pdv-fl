{
 "cells": [
  {
   "cell_type": "code",
   "execution_count": null,
   "metadata": {},
   "outputs": [],
   "source": [
    "import maup # mggg's library for proration, see documentation here: https://github.com/mggg/maup\n",
    "import pandas as pd # standard python data library\n",
    "import geopandas as gp # the geo-version of pandas\n",
    "import numpy as np \n",
    "import os\n",
    "import fiona\n",
    "from statistics import mean, median\n",
    "from pandas import read_csv\n",
    "gp.io.file.fiona.drvsupport.supported_drivers['KML'] = 'rw' #To load KML files"
   ]
  },
  {
   "cell_type": "markdown",
   "metadata": {},
   "source": [
    "# VEST Florida Validation"
   ]
  },
  {
   "cell_type": "code",
   "execution_count": null,
   "metadata": {},
   "outputs": [],
   "source": [
    "vest_fl_16 = gp.read_file(\"./raw-from-source/VEST/fl_2016/fl_2016.shp\")\n",
    "vest_fl_16.plot()\n",
    "vest_fl_16.crs"
   ]
  },
  {
   "cell_type": "markdown",
   "metadata": {},
   "source": [
    "## Documentation"
   ]
  },
  {
   "cell_type": "markdown",
   "metadata": {},
   "source": [
    "### Races"
   ]
  },
  {
   "cell_type": "markdown",
   "metadata": {},
   "source": [
    "G16PRERTru - Donald J. Trump (Republican Party)  \n",
    "G16PREDCli - Hillary Clinton (Democratic Party)  \n",
    "G16PRELJoh - Gary Johnson (Libertarian Party)  \n",
    "G16PRECCas - Darrell L. Castle (Constitution Party)  \n",
    "G16PREGSte - Jill Stein (Green Party)  \n",
    "G16PREIDeL - Roque De La Fuente (Reform Party)  \n",
    "G16PREOth - Write-in Votes  \n",
    "\n",
    "G16USSRRub - Marco Rubio (Republican Party)  \n",
    "G16USSDMur - Patrick Murphy (Democratic Party)  \n",
    "G16USSLSta - Paul Stanton (Libertarian Party)  \n",
    "G16USSOth - Independent and Write-in Votes  "
   ]
  },
  {
   "cell_type": "markdown",
   "metadata": {},
   "source": [
    "### Election Source"
   ]
  },
  {
   "cell_type": "markdown",
   "metadata": {},
   "source": [
    "Election results from Florida Division of Elections (http://dos.myflorida.com/elections/data-statistics/elections-data/precinct-level-election-results/)  "
   ]
  },
  {
   "cell_type": "markdown",
   "metadata": {},
   "source": [
    "### Precinct Source"
   ]
  },
  {
   "cell_type": "markdown",
   "metadata": {},
   "source": [
    "The starting point was the Orlando Sentinel's precinct map for the 2016 presidential primary (http://interactive.orlandosentinel.com/elections/2016/presidential-primary/results/dem.html).  \n",
    "\n",
    "Hillsborough, Lake, Miami-Dade, Orange, Palm Beach, and Pinellas Counties were updated directly with shapefiles downloaded from county Supervisor of Elections websites.  \n",
    "\n",
    "Brevard, Marion, and Putnam Counties were updated with KML files from the respective county Supervisor of Elections websites, from their election result map pages.  \n",
    "\n",
    "Columbia, DeSoto, Leon, Polk, and Osceola Counties updates received from Supervisor of Elections websites through personal contact.  \n",
    "\n",
    "Highlands, Santa Rosa, Sarasota, and Volusia Counties had some precinct mergers, which were determined based on visual inspection of PDF precinct maps from the county websites.  \n",
    "\n",
    "Charlotte, Hendry, Holmes, Jackson, Jefferson, Levy, Madison, and Walton Counties are from VTDs released by the Census Bureau's Redistricting Data Program.  \n",
    "\n",
    "Hernando 99, Collier 450, and Palm Beach 8001/8002 are UOCAVA precincts with no real geography and votes were not redistributed.  \n",
    "\n",
    "Precinct names were adjusted to align with the formatting used in the voter registration file (e.g., some precincts have leading spaces).  "
   ]
  },
  {
   "cell_type": "code",
   "execution_count": null,
   "metadata": {},
   "outputs": [],
   "source": [
    "#This Data is from the FL department of state, and can only be downloaded county by county\n",
    "all_files = os.listdir(\"./raw-from-source/Election_Results/precinctlevelelectionresults2016gen\")"
   ]
  },
  {
   "cell_type": "code",
   "execution_count": null,
   "metadata": {},
   "outputs": [],
   "source": [
    "#Check that all files have the same number of columns\n",
    "for i in all_files:\n",
    "    ref = \"./raw-from-source/Election_Results/precinctlevelelectionresults2016gen/\"\n",
    "    file_ref = ref+i\n",
    "    print(i)\n",
    "    file_prev = pd.read_csv(file_ref,sep=\"\\t\",engine='python',index_col=None, header=None, error_bad_lines=False)\n",
    "    print(file_prev.shape)\n",
    "    \n",
    "#All the files have 19 columns, so they should be good to combine"
   ]
  },
  {
   "cell_type": "code",
   "execution_count": null,
   "metadata": {},
   "outputs": [],
   "source": [
    "#Create a dataframe with the txt files\n",
    "li = []\n",
    "for i in all_files:\n",
    "    ref = \"./raw-from-source/Election_Results/precinctlevelelectionresults2016gen/\"\n",
    "    file_ref = ref+i\n",
    "    file_prev = pd.read_csv(file_ref,sep=\"\\t\",engine='python',index_col=None, header=None,error_bad_lines=False)\n",
    "    li.append(file_prev)\n",
    "frame = pd.concat(li, axis=0, ignore_index=True)\n",
    "print(frame.shape)"
   ]
  },
  {
   "cell_type": "code",
   "execution_count": null,
   "metadata": {},
   "outputs": [],
   "source": [
    "frame.columns = frame.iloc[395275]\n",
    "frame.drop([395275],inplace=True)\n",
    "frame.reset_index(inplace=True,drop=True)\n",
    "print(frame[\"CountyCode\"].unique())\n",
    "print(frame.shape)"
   ]
  },
  {
   "cell_type": "code",
   "execution_count": null,
   "metadata": {},
   "outputs": [],
   "source": [
    "#Filter down to the relevant races\n",
    "frame[\"ContestName\"]=frame[\"ContestName\"].str.upper()\n",
    "office_List = ['PRESIDENT OF THE UNITED STATES','UNITED STATES SENATOR','President of the United States','United States Senator']\n",
    "bad_name_List = ['OverVotes','UnderVotes','Times Blank Voted','Times Over Voted']\n",
    "filtered_frame=frame[(frame[\"ContestName\"].isin(office_List)) & ~(frame[\"CanName\"].isin(bad_name_List))]\n",
    "cand_name_dict = {\"Trump / Pence\":\"Donald J. Trump\",\"Clinton / Kaine\":\"Hillary R. Clinton\",\n",
    "                 \"Johnson / Weld\":\"Gary Johnson\",\"Stein / Baraka\":\"Jill Stein\",\n",
    "                 \"Write-in\":\"WriteIn\",\"De La Fuente / Steinberg\":\"Roque De La Fuente\",\n",
    "                 \"Castle / Bradley\":\"Darrell L. Castle\",'WriteInVotes':'WriteIn','WriteinVotes':'WriteIn'}\n",
    " \n",
    "filtered_frame[\"CanName\"]=filtered_frame[\"CanName\"].map(cand_name_dict).fillna(filtered_frame[\"CanName\"])\n",
    "print(filtered_frame[\"CountyCode\"].unique())"
   ]
  },
  {
   "cell_type": "code",
   "execution_count": null,
   "metadata": {},
   "outputs": [],
   "source": [
    "#Make the precinct column at least 4 digits\n",
    "filtered_frame[\"modified_pre\"]=filtered_frame[\"Precinct\"].astype(str).str.zfill(5) \n",
    "\n",
    "\n",
    "#Make a column with the 3 letter county code and the precincts\n",
    "filtered_frame[\"Pct_std\"]=filtered_frame[\"CountyCode\"]+filtered_frame[\"modified_pre\"]\n",
    "print(filtered_frame.shape)"
   ]
  },
  {
   "cell_type": "code",
   "execution_count": null,
   "metadata": {},
   "outputs": [],
   "source": [
    "print(filtered_frame[\"Pct_std\"].str[0:3].unique())"
   ]
  },
  {
   "cell_type": "code",
   "execution_count": null,
   "metadata": {},
   "outputs": [],
   "source": [
    "filtered_frame[\"CanName\"]= filtered_frame[\"CanName\"].str.upper()\n",
    "filtered_frame[\"ContestName\"] = filtered_frame[\"ContestName\"].str.upper()\n",
    "filtered_frame[\"pivot_col\"]=filtered_frame[\"CanName\"]+filtered_frame[\"ContestName\"]"
   ]
  },
  {
   "cell_type": "code",
   "execution_count": null,
   "metadata": {},
   "outputs": [],
   "source": [
    "pivoted_2016 = pd.pivot_table(filtered_frame, values=[\"CanVotes\"], index=[\"Pct_std\"],columns=[\"pivot_col\"],aggfunc=sum)\n",
    "pivoted_2016.columns = pivoted_2016.columns.droplevel(0)\n",
    "pivoted_2016.reset_index(drop=False,inplace=True)\n",
    "pivoted_2016.shape\n",
    "print(len(pivoted_2016.columns))\n",
    "print(pivoted_2016.columns)"
   ]
  },
  {
   "cell_type": "code",
   "execution_count": null,
   "metadata": {},
   "outputs": [],
   "source": [
    "pivoted_2016['Pct_std'].str[0:3].unique()"
   ]
  },
  {
   "cell_type": "code",
   "execution_count": null,
   "metadata": {},
   "outputs": [],
   "source": [
    "pivoted_2016.columns=(['countypct',\"sen_wi_1\",\n",
    "                       \"sen_wi_2\",\n",
    "                       \"G16PRECCas\",\n",
    "                       \"G16PRERTru\",\n",
    "                       \"G16PRELJon\",\n",
    "                        \"G16PREDCli\",\n",
    "                       \"G16PREGSte\",\n",
    "                       \"G16USSRRub\",\n",
    "                       \"G16USSDMur\",\n",
    "                       \"G16USSLSta\",\n",
    "                       \"G16PREIDeL\",\n",
    "                       \"sen_wi_3\",\n",
    "                       \"sen_wi_4\",  \n",
    "                       \"G16PREoth\",\n",
    "                       \"sen_wi_5\"])\n",
    "print(pivoted_2016.columns)\n",
    "print(pivoted_2016.shape)\n",
    "pivoted_2016[\"G16USSOth\"]=pivoted_2016[\"sen_wi_1\"]+pivoted_2016[\"sen_wi_2\"]+pivoted_2016[\"sen_wi_3\"]+pivoted_2016[\"sen_wi_4\"]+pivoted_2016[\"sen_wi_5\"]\n",
    "pivoted_2016.drop([\"sen_wi_1\",\"sen_wi_2\",\"sen_wi_3\",\"sen_wi_4\",\"sen_wi_5\"], axis=1,inplace=True)"
   ]
  },
  {
   "cell_type": "code",
   "execution_count": null,
   "metadata": {},
   "outputs": [],
   "source": [
    "pivoted_2016 = pivoted_2016.fillna(0)\n",
    "print(sum(pivoted_2016[\"G16PREDCli\"]))\n",
    "pivoted_2016[\"county\"]=pivoted_2016[\"countypct\"].str[0:3]"
   ]
  },
  {
   "cell_type": "code",
   "execution_count": null,
   "metadata": {},
   "outputs": [],
   "source": [
    "print(sum(vest_fl_16[\"G16PREDCli\"]))"
   ]
  },
  {
   "cell_type": "code",
   "execution_count": null,
   "metadata": {},
   "outputs": [],
   "source": [
    "vest_fl_16.groupby([\"county\"]).sum()"
   ]
  },
  {
   "cell_type": "code",
   "execution_count": null,
   "metadata": {},
   "outputs": [],
   "source": [
    "pd.set_option('display.max_rows', 70)\n",
    "display(pivoted_2016.groupby([\"county\"]).sum()[\"G16PREDCli\"]-vest_fl_16.groupby([\"county\"]).sum()[\"G16PREDCli\"])"
   ]
  },
  {
   "cell_type": "code",
   "execution_count": null,
   "metadata": {},
   "outputs": [],
   "source": [
    "print(vest_fl_16.head())\n",
    "print(pivoted_2016.head())"
   ]
  },
  {
   "cell_type": "code",
   "execution_count": null,
   "metadata": {},
   "outputs": [],
   "source": [
    "print(pivoted_2016.columns)"
   ]
  },
  {
   "cell_type": "code",
   "execution_count": null,
   "metadata": {},
   "outputs": [],
   "source": [
    "vest_fl_16[\"countypct\"] = vest_fl_16[\"county\"]+vest_fl_16[\"pct\"].str.zfill(5)\n",
    "print(vest_fl_16.head())"
   ]
  },
  {
   "cell_type": "code",
   "execution_count": null,
   "metadata": {},
   "outputs": [],
   "source": [
    "source_precinct_election_changes_dict = {\"WAS00014\":\"WAS00017\",\"WAS00016\":\"WAS00019\",\"HAR00017\":\"HAR00009\",\"HAR00015\":\"HAR00007\",\n",
    "    \"PUT00031\":\"PUT00035\",\"HAR00018\":\"HAR00010\"}\n",
    "\n",
    "pivoted_2016[\"countypct\"]=pivoted_2016[\"countypct\"].map(source_precinct_election_changes_dict).fillna(pivoted_2016[\"countypct\"])\n"
   ]
  },
  {
   "cell_type": "code",
   "execution_count": null,
   "metadata": {},
   "outputs": [],
   "source": [
    "#Deal with 0 votes precincts\n",
    "vest_empty = vest_fl_16[(vest_fl_16['G16PRERTru']==0) & (vest_fl_16['G16PREDCli']==0) &\n",
    "              (vest_fl_16['G16PRELJon']==0) & (vest_fl_16['G16PRECCas']==0) &\n",
    "              (vest_fl_16['G16PREGSte']==0) & (vest_fl_16['G16PREIDeL']==0) &\n",
    "              (vest_fl_16['G16PREoth']==0) & (vest_fl_16['G16USSRRub']==0) &\n",
    "              (vest_fl_16['G16USSDMur']==0) & (vest_fl_16['G16USSLSta']==0) &\n",
    "              (vest_fl_16['G16USSOth']==0)]\n",
    "\n",
    "#Create the zero vote precincts in the MEDSL file\n",
    "\n",
    "new_precincts = pd.DataFrame(columns=pivoted_2016.columns)\n",
    "new_precincts[\"countypct\"]=vest_empty[\"countypct\"]\n",
    "new_precincts[\"county\"]=vest_empty[\"countypct\"].str[0:3]\n",
    "\n",
    "col_list = ['G16PRECCas', 'G16PRERTru', 'G16PRELJon', 'G16PREDCli',\n",
    "       'G16PREGSte', 'G16USSRRub', 'G16USSDMur', 'G16USSLSta', 'G16PREIDeL',\n",
    "       'G16PREoth', 'G16USSOth']\n",
    "for i in col_list:\n",
    "    new_precincts[i]=0\n",
    "\n",
    "print(new_precincts.head())\n",
    "\n",
    "pivoted_2016= pivoted_2016.append(new_precincts)\n",
    "pivoted_2016.reset_index(drop=True,inplace=True)\n",
    "print(pivoted_2016.head())"
   ]
  },
  {
   "cell_type": "code",
   "execution_count": null,
   "metadata": {},
   "outputs": [],
   "source": [
    "check_election = pd.merge(vest_fl_16,pivoted_2016,how=\"outer\",on=\"countypct\",indicator=True)\n",
    "\n",
    "print(check_election[\"_merge\"].value_counts())\n",
    "check_election[check_election[\"_merge\"]==\"left_only\"].to_csv(\"./vest_election.csv\")\n",
    "check_election[check_election[\"_merge\"]==\"right_only\"].to_csv(\"./source_election.csv\")"
   ]
  },
  {
   "cell_type": "code",
   "execution_count": null,
   "metadata": {},
   "outputs": [],
   "source": [
    "merge these precincts:\n",
    "UNI0001A\n",
    "UNI0001B\n",
    "UNI0002A\n",
    "UNI0002B\n",
    "UNI0003A\n",
    "UNI0003B\n",
    "UNI0004A\n",
    "UNI0004C\n",
    "UNI0005A\n",
    "UNI0005C\n",
    "\n",
    "call them this:\n",
    "UNI1A & 1B\n",
    "UNI2A & 2B\n",
    "UNI3A & 3B\n",
    "UNI4A & 4C\n",
    "UNI5A & 5C   \n",
    "\n",
    "\n",
    "election_precinct_merger([\"UNI0001A\",\"UNI0001B\"],\"UNI1A & 1B\")\n",
    "election_precinct_merger([\"UNI0002A\",\"UNI0002B\"],\"UNI2A & 2B\")\n",
    "election_precinct_merger([\"UNI0003A\",\"UNI0003B\"],\"UNI3A & 3B\")\n",
    "election_precinct_merger([\"UNI0004A\",\"UNI0004C\"],\"UNI4A & 4C\")\n",
    "election_precinct_merger([\"UNI0005A\",\"UNI0005C\"],\"UNI5A & 5C\")"
   ]
  },
  {
   "cell_type": "code",
   "execution_count": null,
   "metadata": {},
   "outputs": [],
   "source": [
    "print(check_election[check_election[\"_merge\"]==\"both\"])"
   ]
  },
  {
   "cell_type": "code",
   "execution_count": null,
   "metadata": {},
   "outputs": [],
   "source": [
    "print(sum(vest_fl_16[\"G16USSOth\"]))\n",
    "print(sum(pivoted_2016[\"G16USSOth\"]))"
   ]
  },
  {
   "cell_type": "code",
   "execution_count": null,
   "metadata": {},
   "outputs": [],
   "source": [
    "print(pivoted_2016.columns)\n",
    "print(vest_fl_16.columns)"
   ]
  },
  {
   "cell_type": "code",
   "execution_count": null,
   "metadata": {},
   "outputs": [],
   "source": [
    "def validater_row (df, column_List):\n",
    "    matching_rows = 0\n",
    "    different_rows = 0\n",
    "    diff_list=[]\n",
    "    diff_values = []\n",
    "    max_diff = 0\n",
    "    \n",
    "    for j in range(0,len(df.index)):\n",
    "        same = True\n",
    "        for i in column_List:\n",
    "            left_Data = i + \"_x\"\n",
    "            right_Data = i + \"_y\"\n",
    "            diff = abs(df.iloc[j][left_Data]-df.iloc[j][right_Data])\n",
    "            if(diff != 0):\n",
    "                print(df.iloc[j]['countypct'])\n",
    "                print(i)\n",
    "                diff_values.append(abs(diff))\n",
    "                same = False\n",
    "                if(np.isnan(diff)):\n",
    "                    print(\"NaN value at diff is: \", df.iloc[j]['countypct'])\n",
    "                    print(df.iloc[j][left_Data])\n",
    "                    print(df.iloc[j][right_Data])\n",
    "                if (diff>max_diff):\n",
    "                    max_diff = diff\n",
    "                    print(\"New max diff is: \", str(max_diff))\n",
    "                    print(df.iloc[j]['countypct'])\n",
    "        if(same != True):\n",
    "            different_rows +=1\n",
    "            diff_list.append(df.iloc[j]['countypct'])\n",
    "        else:\n",
    "            matching_rows +=1\n",
    "    print(\"There are \", len(df.index),\" total rows\")\n",
    "    print(different_rows,\" of these rows have election result differences\")\n",
    "    print(matching_rows,\" of these rows are the same\")\n",
    "    print(\"\")\n",
    "    print(\"The max difference between any one shared column in a row is: \", max_diff)\n",
    "    if(len(diff_values)!=0):\n",
    "        print(\"The average difference is: \", str(sum(diff_values)/len(diff_values)))\n",
    "    count_big_diff = len([i for i in diff_values if i > 10])\n",
    "    print(\"There are \", str(count_big_diff), \"precinct results with a difference greater than 5\")\n",
    "    diff_list.sort()\n",
    "    print(diff_list)\n",
    "\n",
    "col_list = ['G16PRECCas', 'G16PRERTru', 'G16PRELJon', 'G16PREDCli',\n",
    "       'G16PREGSte', 'G16USSRRub', 'G16USSDMur', 'G16USSLSta', 'G16PREIDeL']\n",
    "\n",
    "#Took out Senate other and president other\n",
    "\n",
    "validater_row(check_election[check_election[\"_merge\"]==\"both\"],col_list)"
   ]
  },
  {
   "cell_type": "code",
   "execution_count": null,
   "metadata": {},
   "outputs": [],
   "source": [
    "diff_list = ['HAR00005', 'HAR00008', 'HAR00011', 'HAR00012', 'PAL01173', 'PAL01189', 'PAL01247', 'PAL02081', 'PAL02083', 'PAL02097', 'PAL02116', 'PAL02126', 'PAL04129', 'PAL05003', 'PAL05007', 'PAL05018', 'PAL05055', 'PAL05112', 'PAL05113', 'PAL05115', 'PAL05117', 'PAL05119', 'PAL06207', 'PAL07149', 'PUT00014', 'PUT00015', 'PUT00016', 'PUT00018', 'PUT00019', 'PUT00020', 'PUT00021', 'PUT00022', 'PUT00023', 'PUT00024', 'PUT00025', 'PUT00026', 'PUT00027', 'PUT00028', 'PUT00030', 'PUT00032', 'PUT00033', 'PUT00036', 'PUT00037', 'SAR00429', 'SAR00501', 'WAL00430', 'WAL00440', 'WAL00540', 'WAS00015']"
   ]
  },
  {
   "cell_type": "code",
   "execution_count": null,
   "metadata": {},
   "outputs": [],
   "source": [
    "print(check_election[check_election[\"_merge\"]==\"left_only\"][\"countypct\"])"
   ]
  },
  {
   "cell_type": "code",
   "execution_count": null,
   "metadata": {},
   "outputs": [],
   "source": [
    "pd.set_option('display.max_columns', 500)\n",
    "display(check_election[check_election[\"countypct\"]=='WAL00420'])"
   ]
  },
  {
   "cell_type": "code",
   "execution_count": null,
   "metadata": {},
   "outputs": [],
   "source": [
    "print(len(vest_fl_16[\"county\"].unique()))"
   ]
  },
  {
   "cell_type": "markdown",
   "metadata": {},
   "source": [
    "### Shapefiles"
   ]
  },
  {
   "cell_type": "markdown",
   "metadata": {},
   "source": [
    "The starting point was the Orlando Sentinel's precinct map for the 2016 presidential primary (http://interactive.orlandosentinel.com/elections/2016/presidential-primary/results/dem.html).  \n",
    "\n",
    "Hillsborough, Lake, Miami-Dade, Orange, Palm Beach, and Pinellas Counties were updated directly with shapefiles downloaded from county Supervisor of Elections websites.  \n",
    "\n",
    "Brevard, Marion, and Putnam Counties were updated with KML files from the respective county Supervisor of Elections websites, from their election result map pages.  \n",
    "\n",
    "Columbia, DeSoto, Leon, Polk, and Osceola Counties updates received from Supervisor of Elections websites through personal contact.  \n",
    "\n",
    "Highlands, Santa Rosa, Sarasota, and Volusia Counties had some precinct mergers, which were determined based on visual inspection of PDF precinct maps from the county websites.  \n",
    "\n",
    "Charlotte, Hendry, Holmes, Jackson, Jefferson, Levy, Madison, and Walton Counties are from VTDs released by the Census Bureau's Redistricting Data Program.  \n",
    "\n",
    "Hernando 99, Collier 450, and Palm Beach 8001/8002 are UOCAVA precincts with no real geography and votes were not redistributed.  \n",
    "\n",
    "Precinct names were adjusted to align with the formatting used in the voter registration file (e.g., some precincts have leading spaces).  "
   ]
  },
  {
   "cell_type": "markdown",
   "metadata": {},
   "source": [
    "#The below had shapefiles, but they were not able to load:\n",
    "DAD,HIG,LAK,LEE,PAL,PIN,SUM\n",
    "\n",
    "#Multiple files for BAY, CLL, SUM, SUW, VOL"
   ]
  },
  {
   "cell_type": "markdown",
   "metadata": {},
   "source": [
    "For some of these files, I either exported a XlS file to csv to make it easier to load or "
   ]
  },
  {
   "cell_type": "code",
   "execution_count": null,
   "metadata": {},
   "outputs": [],
   "source": [
    "GAD_pct=pd.read_csv(\"./raw-from-source/Records_Request/Precinct and Polling Place Files - 2012-present - last checked 7-23-2020/GAD/deleted_columns_PctBlock.csv\",error_bad_lines=False)\n",
    "#print(GAD_pct.head())\n",
    "\n",
    "GIL_pct=pd.read_csv(\"./raw-from-source/Records_Request/Precinct and Polling Place Files - 2012-present - last checked 7-23-2020/GIL/GIL20121106v6_PctBlock.txt\",sep=\"\\t\", header=None)\n",
    "GIL_pct.reset_index(inplace=True,drop=True)\n",
    "GIL_pct = GIL_pct[[0,1,2]]\n",
    "GIL_pct.columns = ['County','Precinct','Block']\n",
    "#print(GIL_pct.head())\n",
    "\n",
    "HAM_pct=pd.read_csv(\"./raw-from-source/Records_Request/Precinct and Polling Place Files - 2012-present - last checked 7-23-2020/HAM/HAM20140707_PctBlocka8ac771f-a98a-4718-bb62-f6dceab1369c.txt\",sep=\"\\t\", header=None)\n",
    "HAM_pct.reset_index(inplace=True,drop=True)\n",
    "HAM_pct = HAM_pct[[0,1,2]]\n",
    "HAM_pct.columns = ['County','Precinct','Block']\n",
    "#print(HAM_pct.head())\n",
    "\n",
    "JAC_pct=pd.read_csv(\"./raw-from-source/Records_Request/Precinct and Polling Place Files - 2012-present - last checked 7-23-2020/JAC/cleaned_PctBlock.csv\")\n",
    "JAC_pct.columns = ['County','Precinct','Block']\n",
    "JAC_pct[\"County\"]=\"JAC\"\n",
    "#print(JAC_pct.head())\n",
    "\n",
    "MAD_pct=pd.read_csv(\"./raw-from-source/Records_Request/Precinct and Polling Place Files - 2012-present - last checked 7-23-2020/MAD/clean_PctBlock.csv\")\n",
    "MAD_pct.columns = ['County','Precinct','Block']\n",
    "#print(MAD_pct.head())\n",
    "\n",
    "MRN_pct=pd.read_csv(\"./raw-from-source/Records_Request/Precinct and Polling Place Files - 2012-present - last checked 7-23-2020/MRN/MRN20160510PctBlocka03accb3-5931-4025-b0b3-ee84b1d78dce.txt\",sep=\"\\t\", header=None)\n",
    "MRN_pct.columns = ['County','Precinct','Block']\n",
    "#print(MRN_pct.head())\n",
    "\n",
    "TAY_pct=pd.read_csv(\"./raw-from-source/Records_Request/Precinct and Polling Place Files - 2012-present - last checked 7-23-2020/TAY/TAY20120806_PctBlock0b8117f6-c1de-4b3f-8c25-1e78e2013cd7.txt\",sep=\"\\t\", header=None)\n",
    "TAY_pct.columns = ['County','Precinct','Block']\n",
    "#print(TAY_pct.head())\n",
    "\n",
    "DAD_pct=pd.read_csv(\"./raw-from-source/Records_Request/Precinct and Polling Place Files - 2012-present - last checked 7-23-2020/DAD/DAD20150817_PctBlock8708ddd9-66e2-42f4-8249-d4aa549f0d92.txt\",sep=\"\\t\")\n",
    "DAD_pct=DAD_pct[[\"COUNTY CODE\",\"PRECINCT NUMBER\",\"CENSUS BLOCK\"]]\n",
    "DAD_pct.columns = ['County','Precinct','Block']\n",
    "#print(DAD_pct.head())\n",
    "\n",
    "HIG_pct=pd.read_csv(\"./raw-from-source/Records_Request/Precinct and Polling Place Files - 2012-present - last checked 7-23-2020/HIG/HIG20160801_PctBlock2b83ba25-1180-477a-b954-b31f1605fd92.txt\",sep=\"\\t\")\n",
    "HIG_pct=HIG_pct[[\"County Code\",\"Precinct Number\",\"Census Block\"]]\n",
    "HIG_pct.columns = ['County','Precinct','Block']\n",
    "HIG_pct[\"County\"]=\"HIG\"\n",
    "#print(HIG_pct.head())\n",
    "\n",
    "LAK_pct=pd.read_csv(\"./raw-from-source/Records_Request/Precinct and Polling Place Files - 2012-present - last checked 7-23-2020/LAK/LAK20160420_PctBlock73e1ca5e-e9f7-48e1-b380-98b8401ad0f0.txt\",sep=\"\\t\")\n",
    "LAK_pct=LAK_pct[[\"County Code\",\"Precinct Number\",\"Census Block\"]]\n",
    "LAK_pct.columns = ['County','Precinct','Block']\n",
    "LAK_pct[\"County\"]=\"LAK\"\n",
    "#print(LAK_pct.head())\n",
    "\n",
    "LEE_pct=pd.read_csv(\"/Users/peterhorton/Documents/Redistricting_Data_Hub/Coding/pdv/pdv-fl/vest-fl-2016/raw-from-source/Records_Request/Precinct and Polling Place Files - 2012-present - last checked 7-23-2020/LEE/LEE20180813_PctBlock495f9750-05d2-4aa6-9b20-72a6a1fcef02.txt\",sep=\"\\t\",header=None)\n",
    "LEE_pct[\"County\"]=\"LEE\"\n",
    "LEE_pct = LEE_pct[[1,2,'County']]\n",
    "LEE_pct.columns = ['Precinct','Block','County']\n",
    "LEE_pct = LEE_pct[['County','Precinct','Block']]\n",
    "#print(LEE_pct.head())\n",
    "\n",
    "PIN_pct=pd.read_csv(\"/Users/peterhorton/Documents/Redistricting_Data_Hub/Coding/pdv/pdv-fl/vest-fl-2016/raw-from-source/Records_Request/Precinct and Polling Place Files - 2012-present - last checked 7-23-2020/PIN/PIN20160503PCTBLOCK6239b364-d072-49e8-a23f-5162bcb5e8f7.TXT\",sep=\",\")\n",
    "PIN_pct[\"County\"]=\"PIN\"\n",
    "PIN_pct.columns = ['Block','Precinct','County']\n",
    "PIN_pct = PIN_pct[['County','Precinct','Block']]\n",
    "#print(PIN_pct.head())\n",
    "\n",
    "SUM_pct=pd.read_csv(\"./raw-from-source/Records_Request/Precinct and Polling Place Files - 2012-present - last checked 7-23-2020/SUM/SUM20150414_PctBlock5aacc620-010f-48b7-b03e-074bc85a3d2a.txt\",sep='\\t')\n",
    "SUM_pct = SUM_pct[['County Code','PrecinctNu','CensusBloc']]\n",
    "SUM_pct.columns = ['County','Precinct','Block']\n",
    "SUM_pct[\"County\"]=\"SUM\"\n",
    "#print(SUM_pct.head())"
   ]
  },
  {
   "cell_type": "code",
   "execution_count": null,
   "metadata": {},
   "outputs": [],
   "source": [
    "block_file_list = [GAD_pct,GIL_pct,HAM_pct,JAC_pct,MAD_pct,MRN_pct,TAY_pct,DAD_pct,HIG_pct,LAK_pct,LEE_pct,PIN_pct,SUM_pct]\n",
    "block_counties = pd.concat(block_file_list)\n",
    "block_counties[\"unique_ID\"]=block_counties[\"County\"]+block_counties[\"Precinct\"].astype(str)\n"
   ]
  },
  {
   "cell_type": "code",
   "execution_count": null,
   "metadata": {},
   "outputs": [],
   "source": [
    "#Shapefiles built out of block assignments\n",
    "fl_2010_census_blocks = gp.read_file(\"./raw-from-source/Census_Blocks/fl_2010_b_bound/fl_2010_b_bound.shp\")"
   ]
  },
  {
   "cell_type": "code",
   "execution_count": null,
   "metadata": {},
   "outputs": [],
   "source": [
    "fl_2010_census_blocks.rename(columns={\"GEOID\": \"Block\"},inplace=True)\n",
    "fl_2010_census_blocks[\"Block\"] = fl_2010_census_blocks[\"Block\"].astype(int)\n",
    "fl_2010_census_blocks = fl_2010_census_blocks[[\"Block\",\"geometry\"]]\n",
    "block_counties_merge = pd.merge(block_counties,fl_2010_census_blocks,on=\"Block\",how=\"left\")\n",
    "block_counties_merge=gp.GeoDataFrame(block_counties_merge)\n",
    "census_block_precincts = block_counties_merge.dissolve(by=\"unique_ID\")\n",
    "census_block_precincts.reset_index(inplace=True,drop=True)"
   ]
  },
  {
   "cell_type": "code",
   "execution_count": null,
   "metadata": {},
   "outputs": [],
   "source": [
    "#county_list = list(vest_fl_16[\"county\"].unique())\n",
    "#others=[\"SUM\",\"PIN\",\"LAK\",\"LEE\",\"HIG\",\"DAD\",\"TAY\",\"MRN\",\"MAD\",\"JAC\",\"HAM\",\"GIL\",\"GAD\"]\n",
    "#county_sources_list = list(set(county_list) - set(others))\n",
    "#for i in county_sources_list:\n",
    "    #print(i+\"_pct=\"+i+\"_pct.to_crs(vest_fl_16.crs)\")"
   ]
  },
  {
   "cell_type": "code",
   "execution_count": null,
   "metadata": {},
   "outputs": [],
   "source": [
    "ALA_pct=gp.read_file(\"./raw-from-source/Records_Request/Precinct and Polling Place Files - 2012-present - last checked 7-23-2020/ALA/ALA20121106v6_PctMap/ALA20121106v6_PctMap.shp\")\n",
    "BAK_pct=gp.read_file(\"./raw-from-source/Records_Request/Precinct and Polling Place Files - 2012-present - last checked 7-23-2020/BAK/BAK20121106v6_PctMap/BAK20121106v6_PctMap.shp\")\n",
    "BAY_pct=gp.read_file(\"./raw-from-source/Records_Request/Precinct and Polling Place Files - 2012-present - last checked 7-23-2020/BAK/BAK20121106v6_PctMap/BAK20121106v6_PctMap.shp\")\n",
    "BRA_pct=gp.read_file(\"./raw-from-source/Records_Request/Precinct and Polling Place Files - 2012-present - last checked 7-23-2020/BRA/BRA20121106v6_PctMap/BRA20121106v5_PctMap.shp\")\n",
    "BRE_pct=gp.read_file(\"./raw-from-source/Records_Request/Precinct and Polling Place Files - 2012-present - last checked 7-23-2020/BRE/Post RD Precincts/Precincts_2016.shp\")\n",
    "BRO_pct=gp.read_file(\"./raw-from-source/Records_Request/Precinct and Polling Place Files - 2012-present - last checked 7-23-2020/BRO/PRECINCTS/PRECINCTS_region.shp\")\n",
    "CAL_pct=gp.read_file(\"./raw-from-source/Records_Request/Precinct and Polling Place Files - 2012-present - last checked 7-23-2020/CAL/CAL20121106v6_PctMap/CAL20121106v6_PctMap.shp\")\n",
    "CHA_pct=gp.read_file(\"./raw-from-source/Records_Request/Precinct and Polling Place Files - 2012-present - last checked 7-23-2020/CHA/CHA20121106v6_PctMap/CHA20121106v5_PctMap.shp\")\n",
    "CIT_pct=gp.read_file(\"./raw-from-source/Records_Request/Precinct and Polling Place Files - 2012-present - last checked 7-23-2020/CIT/CIT20170531_PctMap/PRECINCT05312017.shp\")\n",
    "CLA_pct=gp.read_file(\"./raw-from-source/Records_Request/Precinct and Polling Place Files - 2012-present - last checked 7-23-2020/CLA/CLA20160503_PctMapcc84b5a6-3ade-4dd9-acd8-4c8157bcd343/CLA20160503_PctMap.shp\")\n",
    "CLA_pct = CLA_pct.dissolve(by=\"PRECINCT\")\n",
    "CLA_pct.reset_index(inplace=True)\n",
    "CLL_pct=gp.read_file(\"./raw-from-source/Records_Request/Precinct and Polling Place Files - 2012-present - last checked 7-23-2020/CLL/Shape Files/PRECINCT12021.shp\")\n",
    "CLM_pct=gp.read_file(\"./raw-from-source/Records_Request/Precinct and Polling Place Files - 2012-present - last checked 7-23-2020/CLM/CLM20121106v6_PctMap/CLM20121106v6_PctMap.shp\")\n",
    "DES_pct=gp.read_file(\"./raw-from-source/Records_Request/Precinct and Polling Place Files - 2012-present - last checked 7-23-2020/DES/DES20121106v6_PctMap/DES20121106v5_PctMap.shp\")\n",
    "DIX_pct=gp.read_file(\"./raw-from-source/Records_Request/Precinct and Polling Place Files - 2012-present - last checked 7-23-2020/DIX/DIX20121106v6_PctMap/DIX20121106v6_PctMap.shp\")\n",
    "DUV_pct=gp.read_file(\"./raw-from-source/Records_Request/Precinct and Polling Place Files - 2012-present - last checked 7-23-2020/DUV/DUV20120615_PctMap_region38f2bdfc-7be4-466e-ab20-98b2ad332567/DUV20120615_PctMap_region.shp\")\n",
    "ESC_pct=gp.read_file(\"./raw-from-source/Records_Request/Precinct and Polling Place Files - 2012-present - last checked 7-23-2020/ESC/Precinct_Map_2018/PRECINCT_MAP_022018.shp\")\n",
    "FLA_pct=gp.read_file(\"./raw-from-source/Records_Request/Precinct and Polling Place Files - 2012-present - last checked 7-23-2020/FLA/FLA20121106v6_PctMap/FLA20121106v6_PctMap.shp\")\n",
    "FRA_pct=gp.read_file(\"./raw-from-source/Records_Request/Precinct and Polling Place Files - 2012-present - last checked 7-23-2020/FRA/FRA20121106v6_PctMap/FRA20121106v6_PctMap.shp\")\n",
    "GLA_pct=gp.read_file(\"./raw-from-source/Records_Request/Precinct and Polling Place Files - 2012-present - last checked 7-23-2020/GLA/GLA20121106v6_PctMap/GLA20121106v6_PctMap.shp\")\n",
    "GUL_pct=gp.read_file(\"./raw-from-source/Records_Request/Precinct and Polling Place Files - 2012-present - last checked 7-23-2020/GUL/GUL20121106v6_PctMap/GUL20121106v6_PctMap.shp\")\n",
    "HAR_pct=gp.read_file(\"./raw-from-source/Records_Request/Precinct and Polling Place Files - 2012-present - last checked 7-23-2020/HAR/HAR20121106v6_PctMap/HAR20121106v6_PctMap.shp\")\n",
    "HEN_pct=gp.read_file(\"./raw-from-source/Records_Request/Precinct and Polling Place Files - 2012-present - last checked 7-23-2020/HEN/HEN20121106v6_PctMaped1303a5-dc65-41db-ac5f-a2bc3e07721a/HEN20121106v5_PctMap.shp\")\n",
    "HER_pct=gp.read_file(\"./raw-from-source/Records_Request/Precinct and Polling Place Files - 2012-present - last checked 7-23-2020/HER/HER20121106v6_PctMap/HER20121106v6_PctMap.shp\")\n",
    "HIL_pct=gp.read_file(\"./raw-from-source/Records_Request/Precinct and Polling Place Files - 2012-present - last checked 7-23-2020/HIL/HIL20170620_PctMap9febfa30-eb46-4b2b-98d8-efb4bf232874/PctMap.shp\")\n",
    "HOL_pct=gp.read_file(\"./raw-from-source/Records_Request/Precinct and Polling Place Files - 2012-present - last checked 7-23-2020/HOL/HOL20121106v6_PctMap/HOL20121106v6_PctMap.shp\")\n",
    "IND_pct=gp.read_file(\"./raw-from-source/Records_Request/Precinct and Polling Place Files - 2012-present - last checked 7-23-2020/IND/IND20121106v6_PctMap/IND20121106v6_PctMap.shp\")\n",
    "JEF_pct=gp.read_file(\"./raw-from-source/Records_Request/Precinct and Polling Place Files - 2012-present - last checked 7-23-2020/JEF/JEF20121106v6_PctMap/JEF20121106v6_PctMap.shp\")\n",
    "LAF_pct=gp.read_file(\"./raw-from-source/Records_Request/Precinct and Polling Place Files - 2012-present - last checked 7-23-2020/LAF/LAF20121106v6_PctMap/LAF20121106v6_PctMap.shp\")\n",
    "LEO_pct=gp.read_file(\"./raw-from-source/Records_Request/Precinct and Polling Place Files - 2012-present - last checked 7-23-2020/LEO/LEO20160608_PctMapf23ef83b-963f-4d2a-a377-6832ef66b253/LEO02160608_PctMap.shp\")\n",
    "LEV_pct=gp.read_file(\"./raw-from-source/Records_Request/Precinct and Polling Place Files - 2012-present - last checked 7-23-2020/LEV/LEV20121106v6_PctMap/LEV20121106v6_PctMap.shp\")\n",
    "LIB_pct=gp.read_file(\"./raw-from-source/Records_Request/Precinct and Polling Place Files - 2012-present - last checked 7-23-2020/LIB/LIB20121106v6_PctMap/LIB20121106v5_PctMap.shp\")\n",
    "MAN_pct=gp.read_file(\"./raw-from-source/Records_Request/Precinct and Polling Place Files - 2012-present - last checked 7-23-2020/MAN/MAN20121106v6_PctMap/MAN20121106v6_PctMap.shp\")\n",
    "MON_pct=gp.read_file(\"./raw-from-source/Records_Request/Precinct and Polling Place Files - 2012-present - last checked 7-23-2020/MON/MON20121106v6_PctMap/MON20121106v6_PctMap.shp\")\n",
    "MRT_pct=gp.read_file(\"./raw-from-source/Records_Request/Precinct and Polling Place Files - 2012-present - last checked 7-23-2020/MRT/MRT20121106v6_PctMap/MRT20121106v6_PctMap.shp\")\n",
    "NAS_pct=gp.read_file(\"./raw-from-source/Records_Request/Precinct and Polling Place Files - 2012-present - last checked 7-23-2020/NAS/NAS20121106v6_PctMap/NAS20121106v5_PctMap.shp\")\n",
    "OKA_pct=gp.read_file(\"./raw-from-source/Records_Request/Precinct and Polling Place Files - 2012-present - last checked 7-23-2020/OKA/OKA20121106_PCTv6da58ba66-dc93-4a57-b652-54e0178dd8c0/OKA20121106v6_PctMap/OKA20121106v5_PctMap.shp\")\n",
    "OKE_pct=gp.read_file(\"./raw-from-source/Records_Request/Precinct and Polling Place Files - 2012-present - last checked 7-23-2020/OKE/OKE20120628_PctMap515d73e7-c7f9-43ac-83df-e27de5e49af7/2012 Precincts.shp\")\n",
    "ORA_pct=gp.read_file(\"./raw-from-source/Records_Request/Precinct and Polling Place Files - 2012-present - last checked 7-23-2020/ORA/ORA20160506_PctMapc9f3a643-0427-4f76-83e6-015be0bd518c/ORA20160506_PctMap_region.shp\")\n",
    "OSC_pct=gp.read_file(\"./raw-from-source/Records_Request/Precinct and Polling Place Files - 2012-present - last checked 7-23-2020/OSC/OSC20160614_PctMapee50a15b-49e5-40e9-b975-fc25e040399a/2016_06 Osceola Precincts.shp\")\n",
    "PAL_pct=gp.read_file(\"./raw-from-source/Records_Request/Precinct and Polling Place Files - 2012-present - last checked 7-23-2020/PAL/SHAPEFILES 2012_region/SHAPEFILES 2012_region.shp\")\n",
    "PAS_pct=gp.read_file(\"./raw-from-source/Records_Request/Precinct and Polling Place Files - 2012-present - last checked 7-23-2020/PAS/ESRI Shapefiles/Pasco.shp\")\n",
    "POL_pct=gp.read_file(\"./raw-from-source/Records_Request/Precinct and Polling Place Files - 2012-present - last checked 7-23-2020/POL/POL20160511_PctMapbb417d62-028d-4b78-adbf-344f474213b2/2016 Polk Precincts.shp\")\n",
    "PUT_pct=gp.read_file(\"./raw-from-source/Records_Request/Precinct and Polling Place Files - 2012-present - last checked 7-23-2020/PUT/PUT20160614PctMap98164384-dc27-48c1-8ae9-dfa69c6afdc0/PUT20160614PctMap.shp\")\n",
    "SAN_pct=gp.read_file(\"./raw-from-source/Records_Request/Precinct and Polling Place Files - 2012-present - last checked 7-23-2020/SAN/SAN20121106v6_PctMap/SAN20121106v6_PctMap.shp\")\n",
    "SAR_pct=gp.read_file(\"./raw-from-source/Records_Request/Precinct and Polling Place Files - 2012-present - last checked 7-23-2020/SAR/SAR20140109v6_PctMapf831e47b-44f3-4954-a8e8-052b3a084322/SarasotaCounty_Pcts_051613_region.shp\")\n",
    "SEM_pct=gp.read_file(\"./raw-from-source/Records_Request/Precinct and Polling Place Files - 2012-present - last checked 7-23-2020/SEM/SEM20121106v6_PctMap/SEM20121106v6_PctMap.shp\")\n",
    "STJ_pct=gp.read_file(\"./raw-from-source/Records_Request/Precinct and Polling Place Files - 2012-present - last checked 7-23-2020/STJ/STJ20121106v6_PctMap7902e8be-3a36-4698-9e89-0b6a34bc20c1/STJ20121106v6_PctMap.shp\")\n",
    "STL_pct=gp.read_file(\"./raw-from-source/Records_Request/Precinct and Polling Place Files - 2012-present - last checked 7-23-2020/STL/STL20121106v6_PctMap/STL20121106v6_PctMap.shp\")\n",
    "SUW_pct=gp.read_file(\"./raw-from-source/Records_Request/Precinct and Polling Place Files - 2012-present - last checked 7-23-2020/SUW/SUW20121106v6_PctMap/SUW20121106v6_PctMap.shp\")\n",
    "UNI_pct=gp.read_file(\"./raw-from-source/Records_Request/Precinct and Polling Place Files - 2012-present - last checked 7-23-2020/UNI/UNI20121106v6_PctMap/UNI20121106v6_PctMap.shp\")\n",
    "VOL_pct=gp.read_file(\"./raw-from-source/Records_Request/Precinct and Polling Place Files - 2012-present - last checked 7-23-2020/VOL/VOL20160721_PctMap05578db2-b193-44b2-988d-0ba4f6c63ead/VOL20160721_PctMap.shp\")\n",
    "WAK_pct=gp.read_file(\"./raw-from-source/Records_Request/Precinct and Polling Place Files - 2012-present - last checked 7-23-2020/WAK/WAK20121106v6_PctMap/WAK20121106v6_PctMap.shp\")\n",
    "WAL_pct=gp.read_file(\"./raw-from-source/Records_Request/Precinct and Polling Place Files - 2012-present - last checked 7-23-2020/WAL/WAL20121106v6_PctMap/WAL20121106v6_PctMap.shp\")\n",
    "WAS_pct=gp.read_file(\"./raw-from-source/Records_Request/Precinct and Polling Place Files - 2012-present - last checked 7-23-2020/WAS/WAS20121106v6_PctMap/WAS20121106v6_PctMap.shp\")\n",
    "WAS_pct=WAS_pct.dissolve(by=\"pct_std\")\n",
    "BRE_pct=BRE_pct.dissolve(by=\"EPrecinct\")\n",
    "OSC_pct=OSC_pct.dissolve(by=\"PCT2014\")\n",
    "WAS_pct.reset_index(inplace=True)\n",
    "BRE_pct.reset_index(inplace=True)\n",
    "OSC_pct.reset_index(inplace=True)"
   ]
  },
  {
   "cell_type": "code",
   "execution_count": null,
   "metadata": {},
   "outputs": [],
   "source": [
    "ALA_pct['new_county']='ALA'\n",
    "BAK_pct['new_county']='BAK'\n",
    "BAY_pct['new_county']='BAY'\n",
    "BRA_pct['new_county']='BRA'\n",
    "BRE_pct['new_county']='BRE'\n",
    "BRO_pct['new_county']='BRO'\n",
    "CAL_pct['new_county']='CAL'\n",
    "CHA_pct['new_county']='CHA'\n",
    "CIT_pct['new_county']='CIT'\n",
    "CLA_pct['new_county']='CLA'\n",
    "CLL_pct['new_county']='CLL'\n",
    "CLM_pct['new_county']='CLM'\n",
    "DES_pct['new_county']='DES'\n",
    "DIX_pct['new_county']='DIX'\n",
    "DUV_pct['new_county']='DUV'\n",
    "ESC_pct['new_county']='ESC'\n",
    "FLA_pct['new_county']='FLA'\n",
    "FRA_pct['new_county']='FRA'\n",
    "GLA_pct['new_county']='GLA'\n",
    "GUL_pct['new_county']='GUL'\n",
    "HAR_pct['new_county']='HAR'\n",
    "HEN_pct['new_county']='HEN'\n",
    "HER_pct['new_county']='HER'\n",
    "HIL_pct['new_county']='HIL'\n",
    "HOL_pct['new_county']='HOL'\n",
    "IND_pct['new_county']='IND'\n",
    "JEF_pct['new_county']='JEF'\n",
    "LAF_pct['new_county']='LAF'\n",
    "LEO_pct['new_county']='LEO'\n",
    "LEV_pct['new_county']='LEV'\n",
    "LIB_pct['new_county']='LIB'\n",
    "MAN_pct['new_county']='MAN'\n",
    "MON_pct['new_county']='MON'\n",
    "MRT_pct['new_county']='MRT'\n",
    "NAS_pct['new_county']='NAS'\n",
    "OKA_pct['new_county']='OKA'\n",
    "OKE_pct['new_county']='OKE'\n",
    "ORA_pct['new_county']='ORA'\n",
    "OSC_pct['new_county']='OSC'\n",
    "PAL_pct['new_county']='PAL'\n",
    "PAS_pct['new_county']='PAS'\n",
    "POL_pct['new_county']='POL'\n",
    "PUT_pct['new_county']='PUT'\n",
    "SAN_pct['new_county']='SAN'\n",
    "SAR_pct['new_county']='SAR'\n",
    "SEM_pct['new_county']='SEM'\n",
    "STJ_pct['new_county']='STJ'\n",
    "STL_pct['new_county']='STL'\n",
    "SUW_pct['new_county']='SUW'\n",
    "UNI_pct['new_county']='UNI'\n",
    "VOL_pct['new_county']='VOL'\n",
    "WAK_pct['new_county']='WAK'\n",
    "WAL_pct['new_county']='WAL'\n",
    "WAS_pct['new_county']='WAS'\n",
    "BAY_pct=BAY_pct.to_crs(fl_2010_census_blocks.crs)\n",
    "WAS_pct=WAS_pct.to_crs(fl_2010_census_blocks.crs)\n",
    "CLM_pct=CLM_pct.to_crs(fl_2010_census_blocks.crs)\n",
    "PUT_pct=PUT_pct.to_crs(fl_2010_census_blocks.crs)\n",
    "BAK_pct=BAK_pct.to_crs(fl_2010_census_blocks.crs)\n",
    "LIB_pct=LIB_pct.to_crs(fl_2010_census_blocks.crs)\n",
    "LAF_pct=LAF_pct.to_crs(fl_2010_census_blocks.crs)\n",
    "HOL_pct=HOL_pct.to_crs(fl_2010_census_blocks.crs)\n",
    "OSC_pct=OSC_pct.to_crs(fl_2010_census_blocks.crs)\n",
    "POL_pct=POL_pct.to_crs(fl_2010_census_blocks.crs)\n",
    "DES_pct=DES_pct.to_crs(fl_2010_census_blocks.crs)\n",
    "OKA_pct=OKA_pct.to_crs(fl_2010_census_blocks.crs)\n",
    "BRE_pct=BRE_pct.to_crs(fl_2010_census_blocks.crs)\n",
    "SEM_pct=SEM_pct.to_crs(fl_2010_census_blocks.crs)\n",
    "WAK_pct=WAK_pct.to_crs(fl_2010_census_blocks.crs)\n",
    "JEF_pct=JEF_pct.to_crs(fl_2010_census_blocks.crs)\n",
    "HER_pct=HER_pct.to_crs(fl_2010_census_blocks.crs)\n",
    "FRA_pct=FRA_pct.to_crs(fl_2010_census_blocks.crs)\n",
    "WAL_pct=WAL_pct.to_crs(fl_2010_census_blocks.crs)\n",
    "BRO_pct=BRO_pct.to_crs(fl_2010_census_blocks.crs)\n",
    "ALA_pct=ALA_pct.to_crs(fl_2010_census_blocks.crs)\n",
    "STJ_pct=STJ_pct.to_crs(fl_2010_census_blocks.crs)\n",
    "CLA_pct=CLA_pct.to_crs(fl_2010_census_blocks.crs)\n",
    "PAS_pct=PAS_pct.to_crs(fl_2010_census_blocks.crs)\n",
    "CAL_pct=CAL_pct.to_crs(fl_2010_census_blocks.crs)\n",
    "DIX_pct=DIX_pct.to_crs(fl_2010_census_blocks.crs)\n",
    "ESC_pct=ESC_pct.to_crs(fl_2010_census_blocks.crs)\n",
    "ORA_pct=ORA_pct.to_crs(fl_2010_census_blocks.crs)\n",
    "IND_pct=IND_pct.to_crs(fl_2010_census_blocks.crs)\n",
    "GUL_pct=GUL_pct.to_crs(fl_2010_census_blocks.crs)\n",
    "SUW_pct=SUW_pct.to_crs(fl_2010_census_blocks.crs)\n",
    "STL_pct=STL_pct.to_crs(fl_2010_census_blocks.crs)\n",
    "CHA_pct=CHA_pct.to_crs(fl_2010_census_blocks.crs)\n",
    "FLA_pct=FLA_pct.to_crs(fl_2010_census_blocks.crs)\n",
    "UNI_pct=UNI_pct.to_crs(fl_2010_census_blocks.crs)\n",
    "LEO_pct=LEO_pct.to_crs(fl_2010_census_blocks.crs)\n",
    "OKE_pct=OKE_pct.to_crs(fl_2010_census_blocks.crs)\n",
    "MRT_pct=MRT_pct.to_crs(fl_2010_census_blocks.crs)\n",
    "MON_pct=MON_pct.to_crs(fl_2010_census_blocks.crs)\n",
    "MAN_pct=MAN_pct.to_crs(fl_2010_census_blocks.crs)\n",
    "CIT_pct=CIT_pct.to_crs(fl_2010_census_blocks.crs)\n",
    "BRA_pct=BRA_pct.to_crs(fl_2010_census_blocks.crs)\n",
    "CLL_pct=CLL_pct.to_crs(fl_2010_census_blocks.crs)\n",
    "HEN_pct=HEN_pct.to_crs(fl_2010_census_blocks.crs)\n",
    "VOL_pct=VOL_pct.to_crs(fl_2010_census_blocks.crs)\n",
    "NAS_pct=NAS_pct.to_crs(fl_2010_census_blocks.crs)\n",
    "LEV_pct=LEV_pct.to_crs(fl_2010_census_blocks.crs)\n",
    "HIL_pct=HIL_pct.to_crs(fl_2010_census_blocks.crs)\n",
    "HAR_pct=HAR_pct.to_crs(fl_2010_census_blocks.crs)\n",
    "GLA_pct=GLA_pct.to_crs(fl_2010_census_blocks.crs)\n",
    "DUV_pct=DUV_pct.to_crs(fl_2010_census_blocks.crs)\n",
    "SAN_pct=SAN_pct.to_crs(fl_2010_census_blocks.crs)\n",
    "PAL_pct=PAL_pct.to_crs(fl_2010_census_blocks.crs)\n",
    "SAR_pct=SAR_pct.to_crs(fl_2010_census_blocks.crs)"
   ]
  },
  {
   "cell_type": "code",
   "execution_count": null,
   "metadata": {},
   "outputs": [],
   "source": [
    "print(BRE_pct.head())"
   ]
  },
  {
   "cell_type": "code",
   "execution_count": null,
   "metadata": {},
   "outputs": [],
   "source": [
    "fl_2016_shapefiles = [ALA_pct,BAK_pct,BAY_pct,BRA_pct,BRE_pct,BRO_pct,CAL_pct,CHA_pct,CIT_pct,CLA_pct,CLL_pct,CLM_pct,\n",
    "DES_pct,DIX_pct,DUV_pct,ESC_pct,FLA_pct,FRA_pct,GLA_pct,GUL_pct,HAR_pct,\n",
    "HEN_pct,HER_pct,HIL_pct,HOL_pct,IND_pct,JEF_pct,LAF_pct,LEO_pct,LEV_pct,LIB_pct,MAN_pct,MON_pct,MRT_pct,NAS_pct,\n",
    "OKA_pct,OKE_pct,ORA_pct,OSC_pct,PAL_pct,PAS_pct,POL_pct,PUT_pct,SAN_pct,SAR_pct,\n",
    "SEM_pct,STJ_pct,STL_pct,SUW_pct,UNI_pct,VOL_pct,WAK_pct,WAL_pct,WAS_pct]"
   ]
  },
  {
   "cell_type": "code",
   "execution_count": null,
   "metadata": {},
   "outputs": [],
   "source": [
    "cleaned_fl_list = []\n",
    "for i in fl_2016_shapefiles:\n",
    "    i.rename(columns={\"PRECINCT\":\"Precinct\",\"PCT\":\"Precinct\",\"DISTRICT\":\"Precinct\",\n",
    "        \"PrecMay201\":\"Precinct\",\"PCT2014\":\"Precinct\",'PRECINCTID':\"Precinct\"},inplace=True)\n",
    "    i=i[[\"Precinct\",\"geometry\",\"new_county\"]]\n",
    "    i.rename(columns={\"new_county\":\"County\"},inplace=True)\n",
    "    cleaned_fl_list.append(i)\n",
    "    "
   ]
  },
  {
   "cell_type": "code",
   "execution_count": null,
   "metadata": {},
   "outputs": [],
   "source": [
    "for i in cleaned_fl_list:\n",
    "    if (i[\"County\"].unique()==[\"BRE\"]):\n",
    "        i.loc[:,\"Precinct\"] = (i.loc[:,\"Precinct\"]).astype(int)"
   ]
  },
  {
   "cell_type": "code",
   "execution_count": null,
   "metadata": {},
   "outputs": [],
   "source": [
    "census_block_precincts=census_block_precincts[[\"Precinct\",\"geometry\",\"County\"]]\n",
    "print(census_block_precincts.head())"
   ]
  },
  {
   "cell_type": "code",
   "execution_count": null,
   "metadata": {},
   "outputs": [],
   "source": [
    "source_shapes = gp.GeoDataFrame(pd.concat(cleaned_fl_list))\n",
    "two_sources = [source_shapes,census_block_precincts]\n",
    "source_shapes_final = gp.GeoDataFrame(pd.concat(two_sources))\n",
    "#source_shapes_final = gp.GeoDataFrame(pd.concat(source_shapes,census_block_precincts))\n",
    "source_shapes_final.plot()"
   ]
  },
  {
   "cell_type": "code",
   "execution_count": null,
   "metadata": {},
   "outputs": [],
   "source": [
    "print(source_shapes_final[source_shapes_final[\"County\"]==\"BRE\"])"
   ]
  },
  {
   "cell_type": "code",
   "execution_count": null,
   "metadata": {},
   "outputs": [],
   "source": [
    "source_shapes_final = source_shapes_final.to_crs(vest_fl_16.crs)"
   ]
  },
  {
   "cell_type": "code",
   "execution_count": null,
   "metadata": {},
   "outputs": [],
   "source": [
    "source_shapes_final.loc[:,\"Precinct\"]=source_shapes_final.loc[:,\"Precinct\"].astype(str)\n",
    "source_shapes_final.loc[:,\"Precinct\"]=source_shapes_final.loc[:,\"Precinct\"].str.zfill(5)\n",
    "source_shapes_final[\"countypct\"]=source_shapes_final[\"County\"]+source_shapes_final[\"Precinct\"]"
   ]
  },
  {
   "cell_type": "code",
   "execution_count": null,
   "metadata": {},
   "outputs": [],
   "source": [
    "shapes_and_elections = pd.merge(source_shapes_final,pivoted_2016,on=\"countypct\",how=\"outer\",indicator=True)\n",
    "print(shapes_and_elections[\"_merge\"].value_counts())\n",
    "shapes_and_elections[shapes_and_elections[\"_merge\"]==\"left_only\"].to_csv(\"./shapefile_only.csv\")\n",
    "shapes_and_elections[shapes_and_elections[\"_merge\"]==\"right_only\"].to_csv(\"./elections_only.csv\")\n",
    "both_shapes_and_elections = shapes_and_elections[shapes_and_elections[\"_merge\"]==\"both\"]"
   ]
  },
  {
   "cell_type": "code",
   "execution_count": null,
   "metadata": {},
   "outputs": [],
   "source": [
    "final_validation = pd.merge(both_shapes_and_elections,vest_fl_16,on=\"countypct\",how=\"outer\",indicator=\"final_ind\")\n",
    "print(final_validation[\"final_ind\"].value_counts())\n",
    "both = final_validation[final_validation[\"final_ind\"]==\"both\"]"
   ]
  },
  {
   "cell_type": "code",
   "execution_count": null,
   "metadata": {},
   "outputs": [],
   "source": [
    "source_geoms = gp.GeoDataFrame(final_validation[final_validation[\"final_ind\"]==\"both\"],geometry=\"geometry_x\")\n",
    "vest_geoms = gp.GeoDataFrame(final_validation[final_validation[\"final_ind\"]==\"both\"],geometry=\"geometry_y\")\n",
    "vals = source_geoms.geom_almost_equals(vest_geoms,decimal=0)"
   ]
  },
  {
   "cell_type": "code",
   "execution_count": null,
   "metadata": {},
   "outputs": [],
   "source": [
    "print(vals.value_counts())"
   ]
  },
  {
   "cell_type": "code",
   "execution_count": null,
   "metadata": {},
   "outputs": [],
   "source": [
    "#Show a random difference\n",
    "test = both[~vals].sample(axis=0,n=1).index[0]\n",
    "display(both.iloc[test][\"geometry_x\"])\n",
    "display(both.iloc[test][\"geometry_y\"])\n",
    "\n",
    "#display(gp.overlay(both.iloc[test][\"geometry_x\"],both.iloc[test][\"geometry_y\"],how=\"overlap\"))\n",
    "\n",
    "test = both[~vals].sample(axis=0,n=1).index[0]\n",
    "display(both.iloc[test][\"geometry_x\"])\n",
    "display(both.iloc[test][\"geometry_y\"])"
   ]
  },
  {
   "cell_type": "code",
   "execution_count": null,
   "metadata": {},
   "outputs": [],
   "source": [
    "#shp_difference = gp.overlay(source_geoms,vest_geoms,how='symmetric_difference')\n",
    "shp_difference.plot()"
   ]
  }
 ],
 "metadata": {
  "kernelspec": {
   "display_name": "Python 3",
   "language": "python",
   "name": "python3"
  },
  "language_info": {
   "codemirror_mode": {
    "name": "ipython",
    "version": 3
   },
   "file_extension": ".py",
   "mimetype": "text/x-python",
   "name": "python",
   "nbconvert_exporter": "python",
   "pygments_lexer": "ipython3",
   "version": "3.8.3"
  }
 },
 "nbformat": 4,
 "nbformat_minor": 4
}
